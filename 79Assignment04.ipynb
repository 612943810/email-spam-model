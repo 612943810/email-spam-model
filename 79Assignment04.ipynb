{
  "nbformat": 4,
  "nbformat_minor": 0,
  "metadata": {
    "colab": {
      "provenance": [],
      "authorship_tag": "ABX9TyPa7vgt7+BeLUd9uER/lELp",
      "include_colab_link": true
    },
    "kernelspec": {
      "name": "python3",
      "display_name": "Python 3"
    },
    "language_info": {
      "name": "python"
    }
  },
  "cells": [
    {
      "cell_type": "markdown",
      "metadata": {
        "id": "view-in-github",
        "colab_type": "text"
      },
      "source": [
        "<a href=\"https://colab.research.google.com/github/612943810/email-spam-model/blob/main/79Assignment04.ipynb\" target=\"_parent\"><img src=\"https://colab.research.google.com/assets/colab-badge.svg\" alt=\"Open In Colab\"/></a>"
      ]
    },
    {
      "cell_type": "markdown",
      "source": [
        "#Assignment 04\n",
        "#Email Spam  Detection Model\n",
        "#Name:Raiyan Rofiquzzaman\n",
        "# Student ID(Last 4 digits):4979\n"
      ],
      "metadata": {
        "id": "67dhLU4bzy2b"
      }
    },
    {
      "cell_type": "markdown",
      "source": [
        "##If you need a copy of the dataset,please refer to the foillowing link:\n",
        "[Enron Spam Data](https://github.com/MWiechmann/enron_spam_data)"
      ],
      "metadata": {
        "id": "Hta6_y5sBabk"
      }
    },
    {
      "cell_type": "markdown",
      "source": [
        "#Prelimanary Data Analysis"
      ],
      "metadata": {
        "id": "dCXCf5Sh5mS-"
      }
    },
    {
      "cell_type": "markdown",
      "source": [
        "###Import Google Drive"
      ],
      "metadata": {
        "id": "Ye-SwXmHBH7B"
      }
    },
    {
      "cell_type": "code",
      "source": [
        "from google.colab import drive\n",
        "drive.mount('/content/drive')"
      ],
      "metadata": {
        "colab": {
          "base_uri": "https://localhost:8080/"
        },
        "id": "YMSzTBEj336B",
        "outputId": "9fbfddaf-653a-490f-9a32-617a76414eeb"
      },
      "execution_count": null,
      "outputs": [
        {
          "output_type": "stream",
          "name": "stdout",
          "text": [
            "Drive already mounted at /content/drive; to attempt to forcibly remount, call drive.mount(\"/content/drive\", force_remount=True).\n"
          ]
        }
      ]
    },
    {
      "cell_type": "code",
      "execution_count": null,
      "metadata": {
        "id": "21vJaBMKzmvF"
      },
      "outputs": [],
      "source": [
        "import pandas as pd"
      ]
    },
    {
      "cell_type": "code",
      "source": [
        "readSpam=pd.read_csv('/content/drive/MyDrive/Colab Notebooks/enron_spam_data.csv')"
      ],
      "metadata": {
        "id": "YjoZ7XxT3iGc"
      },
      "execution_count": null,
      "outputs": []
    },
    {
      "cell_type": "code",
      "source": [
        "readSpam.head()"
      ],
      "metadata": {
        "colab": {
          "base_uri": "https://localhost:8080/",
          "height": 206
        },
        "id": "Wa3dc11-4IhM",
        "outputId": "84f97a51-ae3b-4605-ba1c-dc5e269f5c46"
      },
      "execution_count": null,
      "outputs": [
        {
          "output_type": "execute_result",
          "data": {
            "text/plain": [
              "   Message ID                       Subject  \\\n",
              "0           0  christmas tree farm pictures   \n",
              "1           1      vastar resources , inc .   \n",
              "2           2  calpine daily gas nomination   \n",
              "3           3                    re : issue   \n",
              "4           4     meter 7268 nov allocation   \n",
              "\n",
              "                                             Message Spam/Ham        Date  \n",
              "0                                                NaN      ham  1999-12-10  \n",
              "1  gary , production from the high island larger ...      ham  1999-12-13  \n",
              "2             - calpine daily gas nomination 1 . doc      ham  1999-12-14  \n",
              "3  fyi - see note below - already done .\\nstella\\...      ham  1999-12-14  \n",
              "4  fyi .\\n- - - - - - - - - - - - - - - - - - - -...      ham  1999-12-14  "
            ],
            "text/html": [
              "\n",
              "  <div id=\"df-a5afde01-a15f-43fc-8b76-619d02344870\">\n",
              "    <div class=\"colab-df-container\">\n",
              "      <div>\n",
              "<style scoped>\n",
              "    .dataframe tbody tr th:only-of-type {\n",
              "        vertical-align: middle;\n",
              "    }\n",
              "\n",
              "    .dataframe tbody tr th {\n",
              "        vertical-align: top;\n",
              "    }\n",
              "\n",
              "    .dataframe thead th {\n",
              "        text-align: right;\n",
              "    }\n",
              "</style>\n",
              "<table border=\"1\" class=\"dataframe\">\n",
              "  <thead>\n",
              "    <tr style=\"text-align: right;\">\n",
              "      <th></th>\n",
              "      <th>Message ID</th>\n",
              "      <th>Subject</th>\n",
              "      <th>Message</th>\n",
              "      <th>Spam/Ham</th>\n",
              "      <th>Date</th>\n",
              "    </tr>\n",
              "  </thead>\n",
              "  <tbody>\n",
              "    <tr>\n",
              "      <th>0</th>\n",
              "      <td>0</td>\n",
              "      <td>christmas tree farm pictures</td>\n",
              "      <td>NaN</td>\n",
              "      <td>ham</td>\n",
              "      <td>1999-12-10</td>\n",
              "    </tr>\n",
              "    <tr>\n",
              "      <th>1</th>\n",
              "      <td>1</td>\n",
              "      <td>vastar resources , inc .</td>\n",
              "      <td>gary , production from the high island larger ...</td>\n",
              "      <td>ham</td>\n",
              "      <td>1999-12-13</td>\n",
              "    </tr>\n",
              "    <tr>\n",
              "      <th>2</th>\n",
              "      <td>2</td>\n",
              "      <td>calpine daily gas nomination</td>\n",
              "      <td>- calpine daily gas nomination 1 . doc</td>\n",
              "      <td>ham</td>\n",
              "      <td>1999-12-14</td>\n",
              "    </tr>\n",
              "    <tr>\n",
              "      <th>3</th>\n",
              "      <td>3</td>\n",
              "      <td>re : issue</td>\n",
              "      <td>fyi - see note below - already done .\\nstella\\...</td>\n",
              "      <td>ham</td>\n",
              "      <td>1999-12-14</td>\n",
              "    </tr>\n",
              "    <tr>\n",
              "      <th>4</th>\n",
              "      <td>4</td>\n",
              "      <td>meter 7268 nov allocation</td>\n",
              "      <td>fyi .\\n- - - - - - - - - - - - - - - - - - - -...</td>\n",
              "      <td>ham</td>\n",
              "      <td>1999-12-14</td>\n",
              "    </tr>\n",
              "  </tbody>\n",
              "</table>\n",
              "</div>\n",
              "      <button class=\"colab-df-convert\" onclick=\"convertToInteractive('df-a5afde01-a15f-43fc-8b76-619d02344870')\"\n",
              "              title=\"Convert this dataframe to an interactive table.\"\n",
              "              style=\"display:none;\">\n",
              "        \n",
              "  <svg xmlns=\"http://www.w3.org/2000/svg\" height=\"24px\"viewBox=\"0 0 24 24\"\n",
              "       width=\"24px\">\n",
              "    <path d=\"M0 0h24v24H0V0z\" fill=\"none\"/>\n",
              "    <path d=\"M18.56 5.44l.94 2.06.94-2.06 2.06-.94-2.06-.94-.94-2.06-.94 2.06-2.06.94zm-11 1L8.5 8.5l.94-2.06 2.06-.94-2.06-.94L8.5 2.5l-.94 2.06-2.06.94zm10 10l.94 2.06.94-2.06 2.06-.94-2.06-.94-.94-2.06-.94 2.06-2.06.94z\"/><path d=\"M17.41 7.96l-1.37-1.37c-.4-.4-.92-.59-1.43-.59-.52 0-1.04.2-1.43.59L10.3 9.45l-7.72 7.72c-.78.78-.78 2.05 0 2.83L4 21.41c.39.39.9.59 1.41.59.51 0 1.02-.2 1.41-.59l7.78-7.78 2.81-2.81c.8-.78.8-2.07 0-2.86zM5.41 20L4 18.59l7.72-7.72 1.47 1.35L5.41 20z\"/>\n",
              "  </svg>\n",
              "      </button>\n",
              "      \n",
              "  <style>\n",
              "    .colab-df-container {\n",
              "      display:flex;\n",
              "      flex-wrap:wrap;\n",
              "      gap: 12px;\n",
              "    }\n",
              "\n",
              "    .colab-df-convert {\n",
              "      background-color: #E8F0FE;\n",
              "      border: none;\n",
              "      border-radius: 50%;\n",
              "      cursor: pointer;\n",
              "      display: none;\n",
              "      fill: #1967D2;\n",
              "      height: 32px;\n",
              "      padding: 0 0 0 0;\n",
              "      width: 32px;\n",
              "    }\n",
              "\n",
              "    .colab-df-convert:hover {\n",
              "      background-color: #E2EBFA;\n",
              "      box-shadow: 0px 1px 2px rgba(60, 64, 67, 0.3), 0px 1px 3px 1px rgba(60, 64, 67, 0.15);\n",
              "      fill: #174EA6;\n",
              "    }\n",
              "\n",
              "    [theme=dark] .colab-df-convert {\n",
              "      background-color: #3B4455;\n",
              "      fill: #D2E3FC;\n",
              "    }\n",
              "\n",
              "    [theme=dark] .colab-df-convert:hover {\n",
              "      background-color: #434B5C;\n",
              "      box-shadow: 0px 1px 3px 1px rgba(0, 0, 0, 0.15);\n",
              "      filter: drop-shadow(0px 1px 2px rgba(0, 0, 0, 0.3));\n",
              "      fill: #FFFFFF;\n",
              "    }\n",
              "  </style>\n",
              "\n",
              "      <script>\n",
              "        const buttonEl =\n",
              "          document.querySelector('#df-a5afde01-a15f-43fc-8b76-619d02344870 button.colab-df-convert');\n",
              "        buttonEl.style.display =\n",
              "          google.colab.kernel.accessAllowed ? 'block' : 'none';\n",
              "\n",
              "        async function convertToInteractive(key) {\n",
              "          const element = document.querySelector('#df-a5afde01-a15f-43fc-8b76-619d02344870');\n",
              "          const dataTable =\n",
              "            await google.colab.kernel.invokeFunction('convertToInteractive',\n",
              "                                                     [key], {});\n",
              "          if (!dataTable) return;\n",
              "\n",
              "          const docLinkHtml = 'Like what you see? Visit the ' +\n",
              "            '<a target=\"_blank\" href=https://colab.research.google.com/notebooks/data_table.ipynb>data table notebook</a>'\n",
              "            + ' to learn more about interactive tables.';\n",
              "          element.innerHTML = '';\n",
              "          dataTable['output_type'] = 'display_data';\n",
              "          await google.colab.output.renderOutput(dataTable, element);\n",
              "          const docLink = document.createElement('div');\n",
              "          docLink.innerHTML = docLinkHtml;\n",
              "          element.appendChild(docLink);\n",
              "        }\n",
              "      </script>\n",
              "    </div>\n",
              "  </div>\n",
              "  "
            ]
          },
          "metadata": {},
          "execution_count": 4
        }
      ]
    },
    {
      "cell_type": "markdown",
      "source": [
        "##Training and Test Sets"
      ],
      "metadata": {
        "id": "8jJS5TW_vz-9"
      }
    },
    {
      "cell_type": "markdown",
      "source": [
        "###Drop Unnessary Columns"
      ],
      "metadata": {
        "id": "3COI333w1-Gv"
      }
    },
    {
      "cell_type": "code",
      "source": [
        "readSpam.drop(columns=['Message ID','Subject','Date'],axis=1,inplace=True)"
      ],
      "metadata": {
        "id": "ShRDxL5M2IcB"
      },
      "execution_count": null,
      "outputs": []
    },
    {
      "cell_type": "code",
      "source": [
        "readSpam.head(5)"
      ],
      "metadata": {
        "colab": {
          "base_uri": "https://localhost:8080/",
          "height": 206
        },
        "id": "aYcPVXZ52cOU",
        "outputId": "3711cac2-efbd-4941-86d9-ae1d0fc7a82e"
      },
      "execution_count": null,
      "outputs": [
        {
          "output_type": "execute_result",
          "data": {
            "text/plain": [
              "                                             Message Spam/Ham\n",
              "0                                                NaN      ham\n",
              "1  gary , production from the high island larger ...      ham\n",
              "2             - calpine daily gas nomination 1 . doc      ham\n",
              "3  fyi - see note below - already done .\\nstella\\...      ham\n",
              "4  fyi .\\n- - - - - - - - - - - - - - - - - - - -...      ham"
            ],
            "text/html": [
              "\n",
              "  <div id=\"df-ff9fdc20-77cc-4534-a628-4e6590352dd6\">\n",
              "    <div class=\"colab-df-container\">\n",
              "      <div>\n",
              "<style scoped>\n",
              "    .dataframe tbody tr th:only-of-type {\n",
              "        vertical-align: middle;\n",
              "    }\n",
              "\n",
              "    .dataframe tbody tr th {\n",
              "        vertical-align: top;\n",
              "    }\n",
              "\n",
              "    .dataframe thead th {\n",
              "        text-align: right;\n",
              "    }\n",
              "</style>\n",
              "<table border=\"1\" class=\"dataframe\">\n",
              "  <thead>\n",
              "    <tr style=\"text-align: right;\">\n",
              "      <th></th>\n",
              "      <th>Message</th>\n",
              "      <th>Spam/Ham</th>\n",
              "    </tr>\n",
              "  </thead>\n",
              "  <tbody>\n",
              "    <tr>\n",
              "      <th>0</th>\n",
              "      <td>NaN</td>\n",
              "      <td>ham</td>\n",
              "    </tr>\n",
              "    <tr>\n",
              "      <th>1</th>\n",
              "      <td>gary , production from the high island larger ...</td>\n",
              "      <td>ham</td>\n",
              "    </tr>\n",
              "    <tr>\n",
              "      <th>2</th>\n",
              "      <td>- calpine daily gas nomination 1 . doc</td>\n",
              "      <td>ham</td>\n",
              "    </tr>\n",
              "    <tr>\n",
              "      <th>3</th>\n",
              "      <td>fyi - see note below - already done .\\nstella\\...</td>\n",
              "      <td>ham</td>\n",
              "    </tr>\n",
              "    <tr>\n",
              "      <th>4</th>\n",
              "      <td>fyi .\\n- - - - - - - - - - - - - - - - - - - -...</td>\n",
              "      <td>ham</td>\n",
              "    </tr>\n",
              "  </tbody>\n",
              "</table>\n",
              "</div>\n",
              "      <button class=\"colab-df-convert\" onclick=\"convertToInteractive('df-ff9fdc20-77cc-4534-a628-4e6590352dd6')\"\n",
              "              title=\"Convert this dataframe to an interactive table.\"\n",
              "              style=\"display:none;\">\n",
              "        \n",
              "  <svg xmlns=\"http://www.w3.org/2000/svg\" height=\"24px\"viewBox=\"0 0 24 24\"\n",
              "       width=\"24px\">\n",
              "    <path d=\"M0 0h24v24H0V0z\" fill=\"none\"/>\n",
              "    <path d=\"M18.56 5.44l.94 2.06.94-2.06 2.06-.94-2.06-.94-.94-2.06-.94 2.06-2.06.94zm-11 1L8.5 8.5l.94-2.06 2.06-.94-2.06-.94L8.5 2.5l-.94 2.06-2.06.94zm10 10l.94 2.06.94-2.06 2.06-.94-2.06-.94-.94-2.06-.94 2.06-2.06.94z\"/><path d=\"M17.41 7.96l-1.37-1.37c-.4-.4-.92-.59-1.43-.59-.52 0-1.04.2-1.43.59L10.3 9.45l-7.72 7.72c-.78.78-.78 2.05 0 2.83L4 21.41c.39.39.9.59 1.41.59.51 0 1.02-.2 1.41-.59l7.78-7.78 2.81-2.81c.8-.78.8-2.07 0-2.86zM5.41 20L4 18.59l7.72-7.72 1.47 1.35L5.41 20z\"/>\n",
              "  </svg>\n",
              "      </button>\n",
              "      \n",
              "  <style>\n",
              "    .colab-df-container {\n",
              "      display:flex;\n",
              "      flex-wrap:wrap;\n",
              "      gap: 12px;\n",
              "    }\n",
              "\n",
              "    .colab-df-convert {\n",
              "      background-color: #E8F0FE;\n",
              "      border: none;\n",
              "      border-radius: 50%;\n",
              "      cursor: pointer;\n",
              "      display: none;\n",
              "      fill: #1967D2;\n",
              "      height: 32px;\n",
              "      padding: 0 0 0 0;\n",
              "      width: 32px;\n",
              "    }\n",
              "\n",
              "    .colab-df-convert:hover {\n",
              "      background-color: #E2EBFA;\n",
              "      box-shadow: 0px 1px 2px rgba(60, 64, 67, 0.3), 0px 1px 3px 1px rgba(60, 64, 67, 0.15);\n",
              "      fill: #174EA6;\n",
              "    }\n",
              "\n",
              "    [theme=dark] .colab-df-convert {\n",
              "      background-color: #3B4455;\n",
              "      fill: #D2E3FC;\n",
              "    }\n",
              "\n",
              "    [theme=dark] .colab-df-convert:hover {\n",
              "      background-color: #434B5C;\n",
              "      box-shadow: 0px 1px 3px 1px rgba(0, 0, 0, 0.15);\n",
              "      filter: drop-shadow(0px 1px 2px rgba(0, 0, 0, 0.3));\n",
              "      fill: #FFFFFF;\n",
              "    }\n",
              "  </style>\n",
              "\n",
              "      <script>\n",
              "        const buttonEl =\n",
              "          document.querySelector('#df-ff9fdc20-77cc-4534-a628-4e6590352dd6 button.colab-df-convert');\n",
              "        buttonEl.style.display =\n",
              "          google.colab.kernel.accessAllowed ? 'block' : 'none';\n",
              "\n",
              "        async function convertToInteractive(key) {\n",
              "          const element = document.querySelector('#df-ff9fdc20-77cc-4534-a628-4e6590352dd6');\n",
              "          const dataTable =\n",
              "            await google.colab.kernel.invokeFunction('convertToInteractive',\n",
              "                                                     [key], {});\n",
              "          if (!dataTable) return;\n",
              "\n",
              "          const docLinkHtml = 'Like what you see? Visit the ' +\n",
              "            '<a target=\"_blank\" href=https://colab.research.google.com/notebooks/data_table.ipynb>data table notebook</a>'\n",
              "            + ' to learn more about interactive tables.';\n",
              "          element.innerHTML = '';\n",
              "          dataTable['output_type'] = 'display_data';\n",
              "          await google.colab.output.renderOutput(dataTable, element);\n",
              "          const docLink = document.createElement('div');\n",
              "          docLink.innerHTML = docLinkHtml;\n",
              "          element.appendChild(docLink);\n",
              "        }\n",
              "      </script>\n",
              "    </div>\n",
              "  </div>\n",
              "  "
            ]
          },
          "metadata": {},
          "execution_count": 6
        }
      ]
    },
    {
      "cell_type": "markdown",
      "source": [
        "###Check for Null Values"
      ],
      "metadata": {
        "id": "zb7uA8xZvgKh"
      }
    },
    {
      "cell_type": "code",
      "source": [
        "readSpam.isnull().sum()"
      ],
      "metadata": {
        "colab": {
          "base_uri": "https://localhost:8080/"
        },
        "id": "mUapi0-ovFvi",
        "outputId": "3be309b9-d85f-4ec9-f999-ca433d188561"
      },
      "execution_count": null,
      "outputs": [
        {
          "output_type": "execute_result",
          "data": {
            "text/plain": [
              "Message     371\n",
              "Spam/Ham      0\n",
              "dtype: int64"
            ]
          },
          "metadata": {},
          "execution_count": 7
        }
      ]
    },
    {
      "cell_type": "markdown",
      "source": [
        "###Drop null values"
      ],
      "metadata": {
        "id": "42EibDKevs6L"
      }
    },
    {
      "cell_type": "code",
      "source": [
        "readSpam.dropna(how='any',inplace=True)"
      ],
      "metadata": {
        "id": "RpvAepJxvweN"
      },
      "execution_count": null,
      "outputs": []
    },
    {
      "cell_type": "code",
      "source": [
        "readSpam.isnull().sum()"
      ],
      "metadata": {
        "colab": {
          "base_uri": "https://localhost:8080/"
        },
        "id": "BO1DH8k6wKZA",
        "outputId": "4d8e1062-37cb-4287-ee9f-3dc5b32c568d"
      },
      "execution_count": null,
      "outputs": [
        {
          "output_type": "execute_result",
          "data": {
            "text/plain": [
              "Message     0\n",
              "Spam/Ham    0\n",
              "dtype: int64"
            ]
          },
          "metadata": {},
          "execution_count": 9
        }
      ]
    },
    {
      "cell_type": "markdown",
      "source": [
        "#Machine Learning Portion"
      ],
      "metadata": {
        "id": "FltfHMnt5zn0"
      }
    },
    {
      "cell_type": "markdown",
      "source": [
        "##Convert Labels"
      ],
      "metadata": {
        "id": "LJiq7KvObI_G"
      }
    },
    {
      "cell_type": "code",
      "source": [
        "from sklearn import preprocessing"
      ],
      "metadata": {
        "id": "Jvt5qOVwuDn8"
      },
      "execution_count": null,
      "outputs": []
    },
    {
      "cell_type": "code",
      "source": [
        "newLabel=preprocessing.LabelEncoder()"
      ],
      "metadata": {
        "id": "-OtfyVuvnK6X"
      },
      "execution_count": null,
      "outputs": []
    },
    {
      "cell_type": "code",
      "source": [
        "readSpam['Spam/Ham']=newLabel.fit_transform(readSpam['Spam/Ham'])"
      ],
      "metadata": {
        "id": "3CTEscLy3JgU"
      },
      "execution_count": null,
      "outputs": []
    },
    {
      "cell_type": "code",
      "source": [
        "readSpam.head()"
      ],
      "metadata": {
        "colab": {
          "base_uri": "https://localhost:8080/",
          "height": 206
        },
        "id": "9HjJoWEkd9Tc",
        "outputId": "10524e7c-4663-44a8-a9c5-932cafef7cf8"
      },
      "execution_count": null,
      "outputs": [
        {
          "output_type": "execute_result",
          "data": {
            "text/plain": [
              "                                             Message  Spam/Ham\n",
              "1  gary , production from the high island larger ...         0\n",
              "2             - calpine daily gas nomination 1 . doc         0\n",
              "3  fyi - see note below - already done .\\nstella\\...         0\n",
              "4  fyi .\\n- - - - - - - - - - - - - - - - - - - -...         0\n",
              "5  jackie ,\\nsince the inlet to 3 river plant is ...         0"
            ],
            "text/html": [
              "\n",
              "  <div id=\"df-8a66768c-9243-45e3-af0b-fc81c7953ae0\">\n",
              "    <div class=\"colab-df-container\">\n",
              "      <div>\n",
              "<style scoped>\n",
              "    .dataframe tbody tr th:only-of-type {\n",
              "        vertical-align: middle;\n",
              "    }\n",
              "\n",
              "    .dataframe tbody tr th {\n",
              "        vertical-align: top;\n",
              "    }\n",
              "\n",
              "    .dataframe thead th {\n",
              "        text-align: right;\n",
              "    }\n",
              "</style>\n",
              "<table border=\"1\" class=\"dataframe\">\n",
              "  <thead>\n",
              "    <tr style=\"text-align: right;\">\n",
              "      <th></th>\n",
              "      <th>Message</th>\n",
              "      <th>Spam/Ham</th>\n",
              "    </tr>\n",
              "  </thead>\n",
              "  <tbody>\n",
              "    <tr>\n",
              "      <th>1</th>\n",
              "      <td>gary , production from the high island larger ...</td>\n",
              "      <td>0</td>\n",
              "    </tr>\n",
              "    <tr>\n",
              "      <th>2</th>\n",
              "      <td>- calpine daily gas nomination 1 . doc</td>\n",
              "      <td>0</td>\n",
              "    </tr>\n",
              "    <tr>\n",
              "      <th>3</th>\n",
              "      <td>fyi - see note below - already done .\\nstella\\...</td>\n",
              "      <td>0</td>\n",
              "    </tr>\n",
              "    <tr>\n",
              "      <th>4</th>\n",
              "      <td>fyi .\\n- - - - - - - - - - - - - - - - - - - -...</td>\n",
              "      <td>0</td>\n",
              "    </tr>\n",
              "    <tr>\n",
              "      <th>5</th>\n",
              "      <td>jackie ,\\nsince the inlet to 3 river plant is ...</td>\n",
              "      <td>0</td>\n",
              "    </tr>\n",
              "  </tbody>\n",
              "</table>\n",
              "</div>\n",
              "      <button class=\"colab-df-convert\" onclick=\"convertToInteractive('df-8a66768c-9243-45e3-af0b-fc81c7953ae0')\"\n",
              "              title=\"Convert this dataframe to an interactive table.\"\n",
              "              style=\"display:none;\">\n",
              "        \n",
              "  <svg xmlns=\"http://www.w3.org/2000/svg\" height=\"24px\"viewBox=\"0 0 24 24\"\n",
              "       width=\"24px\">\n",
              "    <path d=\"M0 0h24v24H0V0z\" fill=\"none\"/>\n",
              "    <path d=\"M18.56 5.44l.94 2.06.94-2.06 2.06-.94-2.06-.94-.94-2.06-.94 2.06-2.06.94zm-11 1L8.5 8.5l.94-2.06 2.06-.94-2.06-.94L8.5 2.5l-.94 2.06-2.06.94zm10 10l.94 2.06.94-2.06 2.06-.94-2.06-.94-.94-2.06-.94 2.06-2.06.94z\"/><path d=\"M17.41 7.96l-1.37-1.37c-.4-.4-.92-.59-1.43-.59-.52 0-1.04.2-1.43.59L10.3 9.45l-7.72 7.72c-.78.78-.78 2.05 0 2.83L4 21.41c.39.39.9.59 1.41.59.51 0 1.02-.2 1.41-.59l7.78-7.78 2.81-2.81c.8-.78.8-2.07 0-2.86zM5.41 20L4 18.59l7.72-7.72 1.47 1.35L5.41 20z\"/>\n",
              "  </svg>\n",
              "      </button>\n",
              "      \n",
              "  <style>\n",
              "    .colab-df-container {\n",
              "      display:flex;\n",
              "      flex-wrap:wrap;\n",
              "      gap: 12px;\n",
              "    }\n",
              "\n",
              "    .colab-df-convert {\n",
              "      background-color: #E8F0FE;\n",
              "      border: none;\n",
              "      border-radius: 50%;\n",
              "      cursor: pointer;\n",
              "      display: none;\n",
              "      fill: #1967D2;\n",
              "      height: 32px;\n",
              "      padding: 0 0 0 0;\n",
              "      width: 32px;\n",
              "    }\n",
              "\n",
              "    .colab-df-convert:hover {\n",
              "      background-color: #E2EBFA;\n",
              "      box-shadow: 0px 1px 2px rgba(60, 64, 67, 0.3), 0px 1px 3px 1px rgba(60, 64, 67, 0.15);\n",
              "      fill: #174EA6;\n",
              "    }\n",
              "\n",
              "    [theme=dark] .colab-df-convert {\n",
              "      background-color: #3B4455;\n",
              "      fill: #D2E3FC;\n",
              "    }\n",
              "\n",
              "    [theme=dark] .colab-df-convert:hover {\n",
              "      background-color: #434B5C;\n",
              "      box-shadow: 0px 1px 3px 1px rgba(0, 0, 0, 0.15);\n",
              "      filter: drop-shadow(0px 1px 2px rgba(0, 0, 0, 0.3));\n",
              "      fill: #FFFFFF;\n",
              "    }\n",
              "  </style>\n",
              "\n",
              "      <script>\n",
              "        const buttonEl =\n",
              "          document.querySelector('#df-8a66768c-9243-45e3-af0b-fc81c7953ae0 button.colab-df-convert');\n",
              "        buttonEl.style.display =\n",
              "          google.colab.kernel.accessAllowed ? 'block' : 'none';\n",
              "\n",
              "        async function convertToInteractive(key) {\n",
              "          const element = document.querySelector('#df-8a66768c-9243-45e3-af0b-fc81c7953ae0');\n",
              "          const dataTable =\n",
              "            await google.colab.kernel.invokeFunction('convertToInteractive',\n",
              "                                                     [key], {});\n",
              "          if (!dataTable) return;\n",
              "\n",
              "          const docLinkHtml = 'Like what you see? Visit the ' +\n",
              "            '<a target=\"_blank\" href=https://colab.research.google.com/notebooks/data_table.ipynb>data table notebook</a>'\n",
              "            + ' to learn more about interactive tables.';\n",
              "          element.innerHTML = '';\n",
              "          dataTable['output_type'] = 'display_data';\n",
              "          await google.colab.output.renderOutput(dataTable, element);\n",
              "          const docLink = document.createElement('div');\n",
              "          docLink.innerHTML = docLinkHtml;\n",
              "          element.appendChild(docLink);\n",
              "        }\n",
              "      </script>\n",
              "    </div>\n",
              "  </div>\n",
              "  "
            ]
          },
          "metadata": {},
          "execution_count": 13
        }
      ]
    },
    {
      "cell_type": "markdown",
      "source": [
        "####Training Set"
      ],
      "metadata": {
        "id": "5ria7gur2r--"
      }
    },
    {
      "cell_type": "code",
      "source": [
        "featureSet=readSpam['Message'].values"
      ],
      "metadata": {
        "id": "ZJIZqfnW5SP3"
      },
      "execution_count": null,
      "outputs": []
    },
    {
      "cell_type": "code",
      "source": [
        "featureSet"
      ],
      "metadata": {
        "colab": {
          "base_uri": "https://localhost:8080/"
        },
        "id": "s683eEJx28w1",
        "outputId": "b7803338-67df-4055-ee11-6b73b9cb5438"
      },
      "execution_count": null,
      "outputs": [
        {
          "output_type": "execute_result",
          "data": {
            "text/plain": [
              "array(['gary , production from the high island larger block a - 1 # 2 commenced on\\nsaturday at 2 : 00 p . m . at about 6 , 500 gross . carlos expects between 9 , 500 and\\n10 , 000 gross for tomorrow . vastar owns 68 % of the gross production .\\ngeorge x 3 - 6992\\n- - - - - - - - - - - - - - - - - - - - - - forwarded by george weissman / hou / ect on 12 / 13 / 99 10 : 16\\nam - - - - - - - - - - - - - - - - - - - - - - - - - - -\\ndaren j farmer\\n12 / 10 / 99 10 : 38 am\\nto : carlos j rodriguez / hou / ect @ ect\\ncc : george weissman / hou / ect @ ect , melissa graves / hou / ect @ ect\\nsubject : vastar resources , inc .\\ncarlos ,\\nplease call linda and get everything set up .\\ni \\' m going to estimate 4 , 500 coming up tomorrow , with a 2 , 000 increase each\\nfollowing day based on my conversations with bill fischer at bmar .\\nd .\\n- - - - - - - - - - - - - - - - - - - - - - forwarded by daren j farmer / hou / ect on 12 / 10 / 99 10 : 34\\nam - - - - - - - - - - - - - - - - - - - - - - - - - - -\\nenron north america corp .\\nfrom : george weissman 12 / 10 / 99 10 : 00 am\\nto : daren j farmer / hou / ect @ ect\\ncc : gary bryan / hou / ect @ ect , melissa graves / hou / ect @ ect\\nsubject : vastar resources , inc .\\ndarren ,\\nthe attached appears to be a nomination from vastar resources , inc . for the\\nhigh island larger block a - 1 # 2 ( previously , erroneously referred to as the\\n# 1 well ) . vastar now expects the well to commence production sometime\\ntomorrow . i told linda harris that we \\' d get her a telephone number in gas\\ncontrol so she can provide notification of the turn - on tomorrow . linda \\' s\\nnumbers , for the record , are 281 . 584 . 3359 voice and 713 . 312 . 1689 fax .\\nwould you please see that someone contacts linda and advises her how to\\nsubmit future nominations via e - mail , fax or voice ? thanks .\\ngeorge x 3 - 6992\\n- - - - - - - - - - - - - - - - - - - - - - forwarded by george weissman / hou / ect on 12 / 10 / 99 09 : 44\\nam - - - - - - - - - - - - - - - - - - - - - - - - - - -\\n\" linda harris \" on 12 / 10 / 99 09 : 38 : 43 am\\nto : george weissman / hou / ect @ ect\\ncc :\\nsubject : hi a - 1 # 2\\neffective 12 - 11 - 99\\n| - - - - - - - - + - - - - - - - - - - + - - - - - - - - - - - |\\n| | | |\\n| mscf / d | min ftp | time |\\n| | | |\\n| - - - - - - - - + - - - - - - - - - - + - - - - - - - - - - - |\\n| | | |\\n| 4 , 500 | 9 , 925 | 24 hours |\\n| | | |\\n| - - - - - - - - + - - - - - - - - - - + - - - - - - - - - - - |\\n| | | |\\n| 6 , 000 | 9 , 908 | 24 hours |\\n| | | |\\n| - - - - - - - - + - - - - - - - - - - + - - - - - - - - - - - |\\n| | | |\\n| 8 , 000 | 9 , 878 | 24 hours |\\n| | | |\\n| - - - - - - - - + - - - - - - - - - - + - - - - - - - - - - - |\\n| | | |\\n| 10 , 000 | 9 , 840 | 24 hours |\\n| | | |\\n| - - - - - - - - + - - - - - - - - - - + - - - - - - - - - - - |\\n| | | |\\n| 12 , 000 | 9 , 793 | 24 hours |\\n| | | |\\n| - - - - - - - - + - - - - - - - - - - + - - - - - - - - - - - |\\n| | | |\\n| 14 , 000 | 9 , 738 | 24 hours |\\n| | | |\\n| - - - - - - - - + - - - - - - - - - - + - - - - - - - - - - - |\\n| | | |\\n| 16 , 000 | 9 , 674 | 24 hours |\\n| | | |\\n| - - - - - - - - + - - - - - - - - - - + - - - - - - - - - - - |\\n| | | |\\n| 18 , 000 | 9 , 602 | 24 hours |\\n| | | |\\n| - - - - - - - - + - - - - - - - - - - + - - - - - - - - - - - |\\n| | | |\\n| 20 , 000 | 9 , 521 | 24 hours |\\n| | | |\\n| - - - - - - - - + - - - - - - - - - - + - - - - - - - - - - - |\\n| | | |\\n| 22 , 000 | 9 , 431 | 24 hours |\\n| | | |\\n| - - - - - - - - + - - - - - - - - - - + - - - - - - - - - - - |\\n| | | |\\n| 24 , 000 | 9 , 332 | 24 hours |\\n| | | |\\n| - - - - - - - - + - - - - - - - - - - + - - - - - - - - - - - |\\n| | | |\\n| 26 , 000 | 9 , 224 | 24 hours |\\n| | | |\\n| - - - - - - - - + - - - - - - - - - - + - - - - - - - - - - - |\\n| | | |\\n| 28 , 000 | 9 , 108 | 24 hours |\\n| | | |\\n| - - - - - - - - + - - - - - - - - - - + - - - - - - - - - - - |\\n| | | |\\n| 30 , 000 | 8 , 982 | 24 hours |\\n| | | |\\n| - - - - - - - - + - - - - - - - - - - + - - - - - - - - - - - |\\n| | | |\\n| 32 , 000 | 8 , 847 | 24 hours |\\n| | | |\\n| - - - - - - - - + - - - - - - - - - - + - - - - - - - - - - - |\\n| | | |\\n| 34 , 000 | 8 , 703 | 24 hours |\\n| | | |\\n| - - - - - - - - + - - - - - - - - - - + - - - - - - - - - - - |\\n| | | |\\n| 36 , 000 | 8 , 549 | 24 hours |\\n| | | |\\n| - - - - - - - - + - - - - - - - - - - + - - - - - - - - - - - |',\n",
              "       '- calpine daily gas nomination 1 . doc',\n",
              "       'fyi - see note below - already done .\\nstella\\n- - - - - - - - - - - - - - - - - - - - - - forwarded by stella l morris / hou / ect on 12 / 14 / 99 10 : 18\\nam - - - - - - - - - - - - - - - - - - - - - - - - - - -\\nfrom : sherlyn schumack on 12 / 14 / 99 10 : 06 am\\nto : stella l morris / hou / ect @ ect\\ncc : howard b camp / hou / ect @ ect\\nsubject : re : issue\\nstella ,\\nthis has already been taken care of . you did this for me yesterday .\\nthanks .\\nhoward b camp\\n12 / 14 / 99 09 : 10 am\\nto : stella l morris / hou / ect @ ect\\ncc : sherlyn schumack / hou / ect @ ect , howard b camp / hou / ect @ ect , stacey\\nneuweiler / hou / ect @ ect , daren j farmer / hou / ect @ ect\\nsubject : issue\\nstella ,\\ncan you work with stacey or daren to resolve\\nhc\\n- - - - - - - - - - - - - - - - - - - - - - forwarded by howard b camp / hou / ect on 12 / 14 / 99 09 : 08\\nam - - - - - - - - - - - - - - - - - - - - - - - - - - -\\nfrom : sherlyn schumack 12 / 13 / 99 01 : 14 pm\\nto : howard b camp / hou / ect @ ect\\ncc :\\nsubject : issue\\ni have to create accounting arrangement for purchase from unocal energy at\\nmeter 986782 . deal not tracked for 5 / 99 . volume on deal 114427 expired 4 / 99 .',\n",
              "       ...,\n",
              "       'are you ready to rock on ? let the man in you rise !\\nsolitude shows us what should be ; society shows us what we are .\\ntalent develops in tranquillity , character in the full current of human life .\\nbecause i have loved life , i shall have no sorrow to die .\\nwhen you betray somebody else , you also betray yourself .',\n",
              "       'learn how to last 5 - 10 times longer in\\nbed . . .\\nread here : plods . net',\n",
              "       'hi : )\\ndo you need some softwares ? i can give you this link http : / / 6 zk . net . softyourmeans . com\\nbest site , more than 50 popular programs and all of them are very - very cheap . you will no need to wait 2 - 3 week for cd delivery - you can download any program at once you have purchased it ! lt'],\n",
              "      dtype=object)"
            ]
          },
          "metadata": {},
          "execution_count": 15
        }
      ]
    },
    {
      "cell_type": "code",
      "source": [
        "featureSet.shape"
      ],
      "metadata": {
        "colab": {
          "base_uri": "https://localhost:8080/"
        },
        "id": "WQ1Z6uzFAZVX",
        "outputId": "d0a9e07c-d20c-4ff4-dcd1-c65c407c0458"
      },
      "execution_count": null,
      "outputs": [
        {
          "output_type": "execute_result",
          "data": {
            "text/plain": [
              "(33345,)"
            ]
          },
          "metadata": {},
          "execution_count": 16
        }
      ]
    },
    {
      "cell_type": "code",
      "source": [
        "labelSet=readSpam['Spam/Ham'].values"
      ],
      "metadata": {
        "id": "KhePXRUW3Ha_"
      },
      "execution_count": null,
      "outputs": []
    },
    {
      "cell_type": "code",
      "source": [
        "labelSet.shape"
      ],
      "metadata": {
        "colab": {
          "base_uri": "https://localhost:8080/"
        },
        "id": "3yxUoCvqAcuj",
        "outputId": "a78d0fb1-545d-4599-a212-3976c06241a4"
      },
      "execution_count": null,
      "outputs": [
        {
          "output_type": "execute_result",
          "data": {
            "text/plain": [
              "(33345,)"
            ]
          },
          "metadata": {},
          "execution_count": 18
        }
      ]
    },
    {
      "cell_type": "markdown",
      "source": [
        "###Split Data"
      ],
      "metadata": {
        "id": "OW42G4OWuS6g"
      }
    },
    {
      "cell_type": "code",
      "source": [
        "from sklearn.model_selection import train_test_split"
      ],
      "metadata": {
        "id": "CWTswCqD3lT6"
      },
      "execution_count": null,
      "outputs": []
    },
    {
      "cell_type": "code",
      "source": [
        "spamXTrain,spamXTest,spamYTrain,spamYTest=train_test_split(featureSet,labelSet,test_size=0.2,random_state=42)"
      ],
      "metadata": {
        "id": "ELxZcRtj4FBR"
      },
      "execution_count": null,
      "outputs": []
    },
    {
      "cell_type": "code",
      "source": [
        "spamXTrain"
      ],
      "metadata": {
        "colab": {
          "base_uri": "https://localhost:8080/"
        },
        "id": "EmD6zeOQzgMM",
        "outputId": "8345d8c1-1f51-4d94-c9ae-28a6b5335cb9"
      },
      "execution_count": null,
      "outputs": [
        {
          "output_type": "execute_result",
          "data": {
            "text/plain": [
              "array(['attention lucky winner ,\\ni am mr . douglas randall the fiduciary agent assigned to your case . i wish to congratulate you on your victory , you are a lucky person to have won this lottery . your email address was amongst those chosen this quarter from our new java - based software that randomly selects email addresses from the web from which winners are selected . you are required to forward the following details to help facilitate the processing of your claims and certificate which will facilitate the release of your winnings .\\nyour winning price is to the tune of two million euros .\\n1 . full names .\\n2 . phone number .\\n3 . fax number .\\n4 . occupation .\\n5 . sex .\\n6 . age .\\n7 . nationality .\\nyou are advised to forward this information as soon as possible to enable us attend to your winnings . our firm has been contracted to handle payments on your behalf , once we confirm your information , your payments would be processed . everything was done in such a way that\\nour payments mode would meet the standards set by the lottery boards . after you have sent down these information , a certificate will be prepared for you . this is to be your proof of winning from this office to the payment center before they release your funds .\\nbe advised that your winnings would be paid to you in four ( 4 ) installments of 500 , 000 . 00 euros { five hundred thousand euros } . this is done because of the amount won by you . this money would be paid to you on instalmental basis via the correspondent bank of the lottery\\npromoters . you are advised to keep your winning price secret to avoid unscrupulous elements from taking advantage of the situation .\\nonce again , congratulations .\\nsincerely ,\\nmr . douglas randall\\ndouglas randall & associates\\n50 broadway\\nwestminster\\nlondon swlh obl\\nunited kingdom\\npractice areas : -\\nbanking / finance\\nintellectual property\\ncharities\\nlitigation / dispute resolution\\ncompetition\\nprivate client\\ncorporate / public employment\\nreal estate / property\\nenvironment\\nshipping\\nfamily\\ntax\\nmail sent from webmail service at desireactor . com - http : / / www . desireactor . com',\n",
              "       \"for questions or comments regarding this report please contact g . britt whitman at ex : 5 - 4014 or kristin walsh at ex : 3 - 9510 .\\nexecutive summary :\\n? cpuc direct access vote\\ncpuc\\nlink to ? live webcast of cpuc meeting 10 : 00 am - @ : pm sept . 20 th\\nthe sun may be setting on californians ' right to customer choice as the cpuc debates the fate of direct access today . we estimate that at this time , the cpuc commissioners will not be taking up the da issue and will instead delay the vote until after the legislature has convened the third special session , called by gov . davis last week . currently , both commissioners brown and wood appear unwilling to support da ; with president lynch being a swing vote .\\nconcerning the retroactive suspension of direct access agreements of customers who have already elected alternate service providers , the current cpuc position appears to be that direct access contracts signed by september 20 th , 2001 will not be nullified . there is rumor that the cpuc may be reviewing several of the contracts signed within the past three to nine months . many commercial consumers now operating under da are highly pessimistic about the cpuc supporting da agreements that have been signed within the past three months . the business community is very conscience that the cpuc now bears the difficult task of weighing california businesses ' political and economic interests against the economic interests of california ' s residential power consumers .\\nreports to follow :\\nsocal bankruptcy developments\\npg & e emergence from bankruptcy\\nprobability of third special session for socal bailout\",\n",
              "       'here is the event form . . . . . disregard the strategy labeled 100400 .\\nthanks , geynille\\n- - - - - - - - - - - - - - - - - - - - - - forwarded by geynille dillingham / hou / ect on 10 / 27 / 2000\\n09 : 32 am - - - - - - - - - - - - - - - - - - - - - - - - - - -\\ngeynille dillingham\\n10 / 27 / 2000 09 : 35 am\\nto : cindy olson / corp / enron @ enron , jean mrha / na / enron @ enron , mariella\\nmahan / enron _ development @ enron _ development , sally beck / hou / ect @ ect , michelle\\ncash / hou / ect @ ect , christie patrick / hou / ect @ ect , carol jean\\nmarshall / hou / ect @ ect , elizabeth shim / corp / enron @ enron , kelly h\\nboots / hou / ect @ ect , jennifer fraser / hou / ect @ ect , stephanie goldman / enron\\ncommunications @ enron communications , grace kim / na / enron @ enron , richard\\nschneider / enron communications @ enron communications , bryan garrett / enron\\ncommunications @ enron communications , kim wilkie / et & s / enron @ enron , mog\\nheu / na / enron @ enron , sabina rank / na / enron @ enron\\ncc : bobbie power / corp / enron @ enron , melissa jones / na / enron @ enron , isabel\\nromero / enron _ development @ enron _ development , patti thompson / hou / ect @ ect ,\\ntwanda sweet / hou / ect @ ect , mary border / corp / enron @ enron , jacqueline\\ncoleman / na / enron @ enron\\nsubject : wellesley interviews - revision\\nhello team ,\\nthere has been some revisions to the reception and interview dates . please\\nlook at the event form for the details .\\ni have attached the strategy also for your convenience .\\ngeynille',\n",
              "       ...,\n",
              "       \"my latest information on rate increases in california indicates that they will be implemented june lst . that means that customers don ' t see a price signal until june and won ' t actually see their bill until july . while i agree with greg that we may see dramatic demand side response once people see their bills , we have no idea how long it will take people and businesses to adjust their behavior . i don ' t really care what positions you guys want to carry . my only advice is that greg is short a fairly illiquid product . if you want to get out right now you would have to pay , at least for some of your position , north of $ 800 / mwh . in the near term i don ' t think that it will be easy to get out of this trade . in the long run , if the market comes off , it will be easy to get out .\\nbottom line - -\\nat the end of the day i think that you may be right , but things look very bullish right now . i want to make sure that you know that you have already pushed the bounds of liquidity for that product and that you should not expect us to provide liquidity to you in a market that doesn ' t offer it to us when it is time to get out .\",\n",
              "       'correct numbers are teco tap 100 . 833 / hpl iferc\\nto : daren . j . farmer @ enron . com , crodrig @ ect . enron . com , melissa jones / texas\\nutilities @ tu , charlie stone / texas utilities @ tu , gary green / texas\\nutilities @ tu , ken english / lsp / enserch / us @ tu , ami _ chokshi @ enron . com ,\\ngary _ hanks @ ect . enron . com , earl . tisdale @ enron . com\\ncc :\\nsubject : enron actuals for may 11 , 2000\\nteco tap 103 . 750 / hpl iferc\\ntexoma 30 . 000 / enron\\nls hpl - katy 12 . 000 / enron\\nls teco katy 8 . 000 / enron',\n",
              "       'secrets revealed . how do porn stars perform , stay\\nstrong and hard even after cumming ! grow upto \" 8 \" inches !\\nthe answer is here .\\nturn off notifications here .\\nub international\\nexports ltd\\nst . jan # 3341 belize city ,\\nbelize\\n'],\n",
              "      dtype=object)"
            ]
          },
          "metadata": {},
          "execution_count": 21
        }
      ]
    },
    {
      "cell_type": "code",
      "source": [
        "spamXTrain.shape"
      ],
      "metadata": {
        "colab": {
          "base_uri": "https://localhost:8080/"
        },
        "id": "RaglGxbk4a4C",
        "outputId": "31804900-3399-4efa-c45d-d58149002764"
      },
      "execution_count": null,
      "outputs": [
        {
          "output_type": "execute_result",
          "data": {
            "text/plain": [
              "(26676,)"
            ]
          },
          "metadata": {},
          "execution_count": 22
        }
      ]
    },
    {
      "cell_type": "code",
      "source": [
        "spamXTest.shape"
      ],
      "metadata": {
        "colab": {
          "base_uri": "https://localhost:8080/"
        },
        "id": "6OsDdVYg4et9",
        "outputId": "c400a203-8ce4-4704-bb16-fcb8318b07e2"
      },
      "execution_count": null,
      "outputs": [
        {
          "output_type": "execute_result",
          "data": {
            "text/plain": [
              "(6669,)"
            ]
          },
          "metadata": {},
          "execution_count": 23
        }
      ]
    },
    {
      "cell_type": "code",
      "source": [
        "spamYTrain.shape"
      ],
      "metadata": {
        "colab": {
          "base_uri": "https://localhost:8080/"
        },
        "id": "kkFqAQnr41Kz",
        "outputId": "99bf1a1e-1c36-4de7-c1ea-43c7349d5301"
      },
      "execution_count": null,
      "outputs": [
        {
          "output_type": "execute_result",
          "data": {
            "text/plain": [
              "(26676,)"
            ]
          },
          "metadata": {},
          "execution_count": 24
        }
      ]
    },
    {
      "cell_type": "code",
      "source": [
        "spamYTest.shape"
      ],
      "metadata": {
        "colab": {
          "base_uri": "https://localhost:8080/"
        },
        "id": "lLoCgfKR465N",
        "outputId": "d9bd0291-c7dd-4843-e1ad-643acd380fa1"
      },
      "execution_count": null,
      "outputs": [
        {
          "output_type": "execute_result",
          "data": {
            "text/plain": [
              "(6669,)"
            ]
          },
          "metadata": {},
          "execution_count": 25
        }
      ]
    },
    {
      "cell_type": "markdown",
      "source": [
        "###Convert Text"
      ],
      "metadata": {
        "id": "AGD1JZ9xHEmd"
      }
    },
    {
      "cell_type": "code",
      "source": [
        "from tensorflow.keras.preprocessing.text import Tokenizer"
      ],
      "metadata": {
        "id": "H7p2BaWTHcob"
      },
      "execution_count": null,
      "outputs": []
    },
    {
      "cell_type": "code",
      "source": [
        "mainToken=Tokenizer()"
      ],
      "metadata": {
        "id": "7JeS5SJIHK07"
      },
      "execution_count": null,
      "outputs": []
    },
    {
      "cell_type": "code",
      "source": [
        "mainToken.fit_on_texts(spamXTrain)"
      ],
      "metadata": {
        "id": "5f10vEssHEQs"
      },
      "execution_count": null,
      "outputs": []
    },
    {
      "cell_type": "code",
      "source": [
        "encodeMessageTrain=mainToken.texts_to_sequences(spamXTrain)"
      ],
      "metadata": {
        "id": "8LBMmRa8IdxQ"
      },
      "execution_count": null,
      "outputs": []
    },
    {
      "cell_type": "code",
      "source": [
        "encodeMessageTest=mainToken.texts_to_sequences(spamXTest)"
      ],
      "metadata": {
        "id": "_FnqTka8ItMj"
      },
      "execution_count": null,
      "outputs": []
    },
    {
      "cell_type": "code",
      "source": [
        "print(encodeMessageTrain[1])"
      ],
      "metadata": {
        "colab": {
          "base_uri": "https://localhost:8080/"
        },
        "id": "T_qT-SR1I0Ue",
        "outputId": "72c8c7a7-bc67-4750-a777-026f213b0f8c"
      },
      "execution_count": null,
      "outputs": [
        {
          "output_type": "stream",
          "name": "stdout",
          "text": [
            "[7, 223, 28, 682, 492, 11, 134, 39, 166, 339, 13262, 7582, 29, 2159, 62, 22695, 28, 3115, 7321, 29, 2159, 44, 19926, 558, 1262, 3371, 732, 415, 3057, 3371, 470, 2, 964, 13656, 4, 3371, 228, 55, 67, 56, 90, 1947, 156, 205, 1, 2132, 61, 18, 2497, 13, 12284, 9, 354, 2, 488, 1443, 21, 1, 3371, 42040, 1, 6814, 4, 732, 415, 179, 20, 1907, 14, 29, 11, 68, 1, 3371, 7840, 24, 31, 18, 908, 76, 1, 2080, 489, 3, 24, 1404, 2071, 1, 3057, 411, 147, 1, 3831, 41, 14514, 1, 458, 486, 1662, 850, 30, 2953, 1140, 165, 157, 439, 304, 7840, 1518, 3, 3075, 2112, 9975, 2, 383, 2080, 17, 381, 3940, 269, 5, 3314, 3057, 2597, 1, 7928, 4756, 4, 732, 415, 1774, 4, 349, 129, 23, 464, 7009, 3819, 188, 2731, 1, 278, 3371, 372, 1779, 2, 18, 14, 732, 415, 583, 1494, 30, 683, 156, 205, 50, 24, 31, 18, 58337, 96, 10, 9810, 14, 1, 3371, 61, 18, 3016, 513, 4, 1, 583, 1494, 155, 1, 441, 434, 2, 2740, 423, 204, 525, 1919, 99, 699, 235, 2080, 26, 1196, 26710, 70, 1, 3371, 3338, 2080, 1774, 14, 23, 73, 1494, 155, 1, 441, 434, 423, 1, 71, 1631, 10, 176, 10822, 14, 1, 3371, 99, 8133, 1, 1738, 3232, 4, 15472, 277, 752, 9, 1827, 3, 1444, 1754, 787, 1, 1444, 1754, 4, 277, 9, 16, 3800, 111, 1919, 666, 2, 675, 2081, 653, 2985, 1088, 48, 11738, 22, 653, 7010, 4, 458, 486, 1662, 7, 2081, 4817]\n"
          ]
        }
      ]
    },
    {
      "cell_type": "markdown",
      "source": [
        "###Convert Message to Same Shape"
      ],
      "metadata": {
        "id": "iHObm7380kyV"
      }
    },
    {
      "cell_type": "code",
      "source": [
        "from tensorflow.keras.preprocessing.sequence import pad_sequences"
      ],
      "metadata": {
        "id": "8brAGx9p0q85"
      },
      "execution_count": null,
      "outputs": []
    },
    {
      "cell_type": "code",
      "source": [
        "mainSize=10\n",
        "padTrain=pad_sequences(encodeMessageTrain,maxlen=mainSize,padding='post')\n",
        "padTest=pad_sequences(encodeMessageTest,maxlen=mainSize,padding='post')"
      ],
      "metadata": {
        "id": "BpvhvwO_09cY"
      },
      "execution_count": null,
      "outputs": []
    },
    {
      "cell_type": "code",
      "source": [
        "padTrain.shape"
      ],
      "metadata": {
        "colab": {
          "base_uri": "https://localhost:8080/"
        },
        "id": "4uM2LaB7u6e7",
        "outputId": "ab642b1c-4da1-439a-dfc3-ca95b91da22a"
      },
      "execution_count": null,
      "outputs": [
        {
          "output_type": "execute_result",
          "data": {
            "text/plain": [
              "(26676, 10)"
            ]
          },
          "metadata": {},
          "execution_count": 34
        }
      ]
    },
    {
      "cell_type": "code",
      "source": [
        "padTest.shape"
      ],
      "metadata": {
        "colab": {
          "base_uri": "https://localhost:8080/"
        },
        "id": "yBPcmbPwvH_6",
        "outputId": "4957d995-9e83-4914-aaed-b34c33527cbf"
      },
      "execution_count": null,
      "outputs": [
        {
          "output_type": "execute_result",
          "data": {
            "text/plain": [
              "(6669, 10)"
            ]
          },
          "metadata": {},
          "execution_count": 35
        }
      ]
    },
    {
      "cell_type": "markdown",
      "source": [
        "#Finding the Best Model"
      ],
      "metadata": {
        "id": "kgAX_SHr5XNS"
      }
    },
    {
      "cell_type": "code",
      "source": [
        "from tensorflow.keras import models"
      ],
      "metadata": {
        "id": "kdOXDk_XvsjG"
      },
      "execution_count": null,
      "outputs": []
    },
    {
      "cell_type": "markdown",
      "source": [
        "### Initial Model"
      ],
      "metadata": {
        "id": "5_60Q5gGXsty"
      }
    },
    {
      "cell_type": "code",
      "source": [
        "from tensorflow.keras import models\n",
        "from tensorflow.keras import layers"
      ],
      "metadata": {
        "id": "LSuV8VJ9nG-3"
      },
      "execution_count": null,
      "outputs": []
    },
    {
      "cell_type": "code",
      "source": [
        "spamModel=models.Sequential()"
      ],
      "metadata": {
        "id": "FEsgVMwpRq5H"
      },
      "execution_count": null,
      "outputs": []
    },
    {
      "cell_type": "code",
      "source": [
        "\n",
        "wordLength=len(mainToken.word_index) +1\n",
        "spamModel.add(layers.Embedding(wordLength,20,input_length=mainSize))\n",
        "spamModel.add(layers.Flatten())\n",
        "spamModel.add(layers.Dense(2,activation='relu'))\n",
        "spamModel.add(layers.Dense(2,activation='relu'))\n",
        "spamModel.add(layers.Dropout(0.6))\n",
        "spamModel.add(layers.Dense(2,activation='relu'))\n",
        "spamModel.add(layers.Dense(1,activation='sigmoid'))\n"
      ],
      "metadata": {
        "id": "dXHeb8cFR3pf"
      },
      "execution_count": null,
      "outputs": []
    },
    {
      "cell_type": "code",
      "source": [
        "spamModel.compile(optimizer='rmsprop',\n",
        "                  loss='binary_crossentropy',\n",
        "                  metrics=['accuracy'])"
      ],
      "metadata": {
        "id": "vLnrOk9ZTELP"
      },
      "execution_count": null,
      "outputs": []
    },
    {
      "cell_type": "code",
      "source": [
        "finalOutput=spamModel.fit(padTrain,spamYTrain,\n",
        "                          epochs=30,\n",
        "                          batch_size=2000,\n",
        "                          validation_data=(padTest,spamYTest))"
      ],
      "metadata": {
        "colab": {
          "base_uri": "https://localhost:8080/"
        },
        "id": "se1sXRL4Tzl7",
        "outputId": "b0de9e15-7c9f-438c-801f-9ec0105543bc"
      },
      "execution_count": null,
      "outputs": [
        {
          "output_type": "stream",
          "name": "stdout",
          "text": [
            "Epoch 1/30\n",
            "14/14 [==============================] - 2s 46ms/step - loss: 0.6874 - accuracy: 0.5072 - val_loss: 0.6787 - val_accuracy: 0.5002\n",
            "Epoch 2/30\n",
            "14/14 [==============================] - 0s 29ms/step - loss: 0.6684 - accuracy: 0.5713 - val_loss: 0.6584 - val_accuracy: 0.7521\n",
            "Epoch 3/30\n",
            "14/14 [==============================] - 0s 29ms/step - loss: 0.6495 - accuracy: 0.6185 - val_loss: 0.6363 - val_accuracy: 0.8187\n",
            "Epoch 4/30\n",
            "14/14 [==============================] - 0s 29ms/step - loss: 0.6336 - accuracy: 0.6360 - val_loss: 0.6134 - val_accuracy: 0.8502\n",
            "Epoch 5/30\n",
            "14/14 [==============================] - 0s 29ms/step - loss: 0.6182 - accuracy: 0.6442 - val_loss: 0.5913 - val_accuracy: 0.8773\n",
            "Epoch 6/30\n",
            "14/14 [==============================] - 0s 23ms/step - loss: 0.6010 - accuracy: 0.6607 - val_loss: 0.5683 - val_accuracy: 0.8845\n",
            "Epoch 7/30\n",
            "14/14 [==============================] - 0s 24ms/step - loss: 0.5899 - accuracy: 0.6667 - val_loss: 0.5477 - val_accuracy: 0.8937\n",
            "Epoch 8/30\n",
            "14/14 [==============================] - 0s 23ms/step - loss: 0.5823 - accuracy: 0.6697 - val_loss: 0.5297 - val_accuracy: 0.9055\n",
            "Epoch 9/30\n",
            "14/14 [==============================] - 0s 22ms/step - loss: 0.5706 - accuracy: 0.6797 - val_loss: 0.5123 - val_accuracy: 0.9127\n",
            "Epoch 10/30\n",
            "14/14 [==============================] - 0s 23ms/step - loss: 0.5652 - accuracy: 0.6814 - val_loss: 0.4966 - val_accuracy: 0.9138\n",
            "Epoch 11/30\n",
            "14/14 [==============================] - 0s 22ms/step - loss: 0.5611 - accuracy: 0.6830 - val_loss: 0.4843 - val_accuracy: 0.9219\n",
            "Epoch 12/30\n",
            "14/14 [==============================] - 0s 23ms/step - loss: 0.5617 - accuracy: 0.6789 - val_loss: 0.4714 - val_accuracy: 0.9237\n",
            "Epoch 13/30\n",
            "14/14 [==============================] - 0s 23ms/step - loss: 0.5550 - accuracy: 0.6844 - val_loss: 0.4609 - val_accuracy: 0.9256\n",
            "Epoch 14/30\n",
            "14/14 [==============================] - 0s 22ms/step - loss: 0.5531 - accuracy: 0.6847 - val_loss: 0.4496 - val_accuracy: 0.9276\n",
            "Epoch 15/30\n",
            "14/14 [==============================] - 0s 24ms/step - loss: 0.5515 - accuracy: 0.6844 - val_loss: 0.4390 - val_accuracy: 0.9288\n",
            "Epoch 16/30\n",
            "14/14 [==============================] - 0s 23ms/step - loss: 0.5437 - accuracy: 0.6920 - val_loss: 0.4303 - val_accuracy: 0.9292\n",
            "Epoch 17/30\n",
            "14/14 [==============================] - 0s 24ms/step - loss: 0.5402 - accuracy: 0.6952 - val_loss: 0.4230 - val_accuracy: 0.9322\n",
            "Epoch 18/30\n",
            "14/14 [==============================] - 0s 28ms/step - loss: 0.5451 - accuracy: 0.6884 - val_loss: 0.4159 - val_accuracy: 0.9309\n",
            "Epoch 19/30\n",
            "14/14 [==============================] - 0s 31ms/step - loss: 0.5418 - accuracy: 0.6913 - val_loss: 0.4101 - val_accuracy: 0.9328\n",
            "Epoch 20/30\n",
            "14/14 [==============================] - 0s 31ms/step - loss: 0.5381 - accuracy: 0.6940 - val_loss: 0.4032 - val_accuracy: 0.9316\n",
            "Epoch 21/30\n",
            "14/14 [==============================] - 0s 29ms/step - loss: 0.5419 - accuracy: 0.6885 - val_loss: 0.3987 - val_accuracy: 0.9334\n",
            "Epoch 22/30\n",
            "14/14 [==============================] - 0s 32ms/step - loss: 0.5358 - accuracy: 0.6954 - val_loss: 0.3937 - val_accuracy: 0.9325\n",
            "Epoch 23/30\n",
            "14/14 [==============================] - 0s 24ms/step - loss: 0.5381 - accuracy: 0.6920 - val_loss: 0.3886 - val_accuracy: 0.9324\n",
            "Epoch 24/30\n",
            "14/14 [==============================] - 0s 24ms/step - loss: 0.5364 - accuracy: 0.6930 - val_loss: 0.3837 - val_accuracy: 0.9327\n",
            "Epoch 25/30\n",
            "14/14 [==============================] - 0s 23ms/step - loss: 0.5377 - accuracy: 0.6909 - val_loss: 0.3810 - val_accuracy: 0.9333\n",
            "Epoch 26/30\n",
            "14/14 [==============================] - 0s 24ms/step - loss: 0.5369 - accuracy: 0.6913 - val_loss: 0.3768 - val_accuracy: 0.9313\n",
            "Epoch 27/30\n",
            "14/14 [==============================] - 0s 25ms/step - loss: 0.5346 - accuracy: 0.6937 - val_loss: 0.3742 - val_accuracy: 0.9291\n",
            "Epoch 28/30\n",
            "14/14 [==============================] - 0s 24ms/step - loss: 0.5367 - accuracy: 0.6907 - val_loss: 0.3703 - val_accuracy: 0.9286\n",
            "Epoch 29/30\n",
            "14/14 [==============================] - 0s 23ms/step - loss: 0.5324 - accuracy: 0.6951 - val_loss: 0.3685 - val_accuracy: 0.9276\n",
            "Epoch 30/30\n",
            "14/14 [==============================] - 0s 23ms/step - loss: 0.5337 - accuracy: 0.6933 - val_loss: 0.3663 - val_accuracy: 0.9258\n"
          ]
        }
      ]
    },
    {
      "cell_type": "code",
      "source": [
        "spamModel.predict(padTest)"
      ],
      "metadata": {
        "colab": {
          "base_uri": "https://localhost:8080/"
        },
        "id": "LxzrRQrNB1k9",
        "outputId": "c467ac44-c16c-4509-ecca-231cddd8a079"
      },
      "execution_count": null,
      "outputs": [
        {
          "output_type": "execute_result",
          "data": {
            "text/plain": [
              "array([[0.40417898],\n",
              "       [0.40417898],\n",
              "       [0.40417898],\n",
              "       ...,\n",
              "       [0.40417898],\n",
              "       [0.40417898],\n",
              "       [0.40417898]], dtype=float32)"
            ]
          },
          "metadata": {},
          "execution_count": 42
        }
      ]
    },
    {
      "cell_type": "code",
      "source": [
        "spamModel.summary()"
      ],
      "metadata": {
        "id": "nimzgaAK6BOJ",
        "colab": {
          "base_uri": "https://localhost:8080/"
        },
        "outputId": "3585d960-2665-4a93-c0ad-5e8edb430594"
      },
      "execution_count": null,
      "outputs": [
        {
          "output_type": "stream",
          "name": "stdout",
          "text": [
            "Model: \"sequential\"\n",
            "_________________________________________________________________\n",
            " Layer (type)                Output Shape              Param #   \n",
            "=================================================================\n",
            " embedding (Embedding)       (None, 10, 20)            2782800   \n",
            "                                                                 \n",
            " flatten (Flatten)           (None, 200)               0         \n",
            "                                                                 \n",
            " dense (Dense)               (None, 2)                 402       \n",
            "                                                                 \n",
            " dense_1 (Dense)             (None, 2)                 6         \n",
            "                                                                 \n",
            " dropout (Dropout)           (None, 2)                 0         \n",
            "                                                                 \n",
            " dense_2 (Dense)             (None, 2)                 6         \n",
            "                                                                 \n",
            " dense_3 (Dense)             (None, 1)                 3         \n",
            "                                                                 \n",
            "=================================================================\n",
            "Total params: 2,783,217\n",
            "Trainable params: 2,783,217\n",
            "Non-trainable params: 0\n",
            "_________________________________________________________________\n"
          ]
        }
      ]
    },
    {
      "cell_type": "code",
      "source": [
        "mainAccuracy=finalOutput.history['accuracy']\n",
        "mainValAccuracy=finalOutput.history['val_accuracy']\n",
        "mainLoss=finalOutput.history['loss']\n",
        "mainValLoss=finalOutput.history['val_loss']"
      ],
      "metadata": {
        "id": "LkkWQC-TEAb5"
      },
      "execution_count": null,
      "outputs": []
    },
    {
      "cell_type": "code",
      "source": [
        "epochLength=range(1,len(mainAccuracy)+1)"
      ],
      "metadata": {
        "id": "s_CqyHf6E3Yi"
      },
      "execution_count": null,
      "outputs": []
    },
    {
      "cell_type": "code",
      "source": [
        "import matplotlib.pyplot as plt\n",
        "plt.plot(epochLength,mainAccuracy,'bo',label='Training acc')\n",
        "plt.plot(epochLength,mainValAccuracy,'b',label='Validation acc')\n",
        "plt.title('Training and validation accuracy')\n",
        "plt.legend()\n",
        "plt.figure()"
      ],
      "metadata": {
        "colab": {
          "base_uri": "https://localhost:8080/",
          "height": 316
        },
        "id": "XM-BErt17QGF",
        "outputId": "f85cf1a1-c93a-4b08-db73-cd7033065e15"
      },
      "execution_count": null,
      "outputs": [
        {
          "output_type": "execute_result",
          "data": {
            "text/plain": [
              "<Figure size 432x288 with 0 Axes>"
            ]
          },
          "metadata": {},
          "execution_count": 46
        },
        {
          "output_type": "display_data",
          "data": {
            "text/plain": [
              "<Figure size 432x288 with 1 Axes>"
            ],
            "image/png": "[encoded data removed]"
          },
          "metadata": {
            "needs_background": "light"
          }
        },
        {
          "output_type": "display_data",
          "data": {
            "text/plain": [
              "<Figure size 432x288 with 0 Axes>"
            ]
          },
          "metadata": {}
        }
      ]
    },
    {
      "cell_type": "code",
      "source": [
        "import matplotlib.pyplot as plt\n",
        "plt.plot(epochLength,mainLoss,'bo',label='Training Loss')\n",
        "plt.plot(epochLength,mainValLoss,'b',label='Validation Loss')\n",
        "plt.title('Training and validation Loss')\n",
        "plt.legend()\n",
        "plt.figure()"
      ],
      "metadata": {
        "colab": {
          "base_uri": "https://localhost:8080/",
          "height": 316
        },
        "id": "Sls2XsSLFxBF",
        "outputId": "8458bdfa-777c-490b-c51f-eef16a33a2e3"
      },
      "execution_count": null,
      "outputs": [
        {
          "output_type": "execute_result",
          "data": {
            "text/plain": [
              "<Figure size 432x288 with 0 Axes>"
            ]
          },
          "metadata": {},
          "execution_count": 47
        },
        {
          "output_type": "display_data",
          "data": {
            "text/plain": [
              "<Figure size 432x288 with 1 Axes>"
            ],
            "image/png": "[encoded data removed]"
          },
          "metadata": {
            "needs_background": "light"
          }
        },
        {
          "output_type": "display_data",
          "data": {
            "text/plain": [
              "<Figure size 432x288 with 0 Axes>"
            ]
          },
          "metadata": {}
        }
      ]
    },
    {
      "cell_type": "markdown",
      "source": [
        "###This model is pretty good but overfitting is still there. Let's change more hyperparameters"
      ],
      "metadata": {
        "id": "OFB0uQmdtsys"
      }
    },
    {
      "cell_type": "markdown",
      "source": [
        "#Change amount of each Dense layer"
      ],
      "metadata": {
        "id": "ugDNgJmLxOih"
      }
    },
    {
      "cell_type": "code",
      "source": [
        "spamModel=models.Sequential()\n",
        "wordLength=len(mainToken.word_index) +1\n",
        "spamModel.add(layers.Embedding(wordLength,20,input_length=mainSize))\n",
        "spamModel.add(layers.Flatten())\n",
        "spamModel.add(layers.Dense(50,activation='relu'))\n",
        "spamModel.add(layers.Dense(50,activation='relu'))\n",
        "spamModel.add(layers.Dropout(0.6))\n",
        "spamModel.add(layers.Dense(50,activation='relu'))\n",
        "spamModel.add(layers.Dense(1,activation='sigmoid'))\n"
      ],
      "metadata": {
        "id": "rcZVv7WBUi4Q"
      },
      "execution_count": null,
      "outputs": []
    },
    {
      "cell_type": "code",
      "source": [
        "spamModel.compile(optimizer='rmsprop',\n",
        "                  loss='binary_crossentropy',\n",
        "                  metrics=['accuracy'])"
      ],
      "metadata": {
        "id": "Wcyz2FgNsqxo"
      },
      "execution_count": null,
      "outputs": []
    },
    {
      "cell_type": "code",
      "source": [
        "finalOutput=spamModel.fit(padTrain,spamYTrain,\n",
        "                          epochs=30,\n",
        "                          batch_size=2000,\n",
        "                          validation_data=(padTest,spamYTest))"
      ],
      "metadata": {
        "colab": {
          "base_uri": "https://localhost:8080/"
        },
        "id": "GAW3iJcmspxF",
        "outputId": "91a3977b-db44-434b-c7fd-06bb68715e82"
      },
      "execution_count": null,
      "outputs": [
        {
          "output_type": "stream",
          "name": "stdout",
          "text": [
            "Epoch 1/30\n",
            "14/14 [==============================] - 1s 44ms/step - loss: 0.6759 - accuracy: 0.6350 - val_loss: 0.6061 - val_accuracy: 0.7910\n",
            "Epoch 2/30\n",
            "14/14 [==============================] - 0s 32ms/step - loss: 0.4917 - accuracy: 0.8632 - val_loss: 0.3381 - val_accuracy: 0.9097\n",
            "Epoch 3/30\n",
            "14/14 [==============================] - 0s 31ms/step - loss: 0.2457 - accuracy: 0.9470 - val_loss: 0.1885 - val_accuracy: 0.9381\n",
            "Epoch 4/30\n",
            "14/14 [==============================] - 0s 31ms/step - loss: 0.1183 - accuracy: 0.9732 - val_loss: 0.1412 - val_accuracy: 0.9474\n",
            "Epoch 5/30\n",
            "14/14 [==============================] - 0s 30ms/step - loss: 0.0601 - accuracy: 0.9858 - val_loss: 0.1297 - val_accuracy: 0.9523\n",
            "Epoch 6/30\n",
            "14/14 [==============================] - 0s 31ms/step - loss: 0.0347 - accuracy: 0.9915 - val_loss: 0.1340 - val_accuracy: 0.9529\n",
            "Epoch 7/30\n",
            "14/14 [==============================] - 0s 31ms/step - loss: 0.0212 - accuracy: 0.9948 - val_loss: 0.1418 - val_accuracy: 0.9541\n",
            "Epoch 8/30\n",
            "14/14 [==============================] - 0s 31ms/step - loss: 0.0131 - accuracy: 0.9966 - val_loss: 0.1592 - val_accuracy: 0.9538\n",
            "Epoch 9/30\n",
            "14/14 [==============================] - 0s 33ms/step - loss: 0.0076 - accuracy: 0.9981 - val_loss: 0.1829 - val_accuracy: 0.9531\n",
            "Epoch 10/30\n",
            "14/14 [==============================] - 0s 31ms/step - loss: 0.0043 - accuracy: 0.9991 - val_loss: 0.1966 - val_accuracy: 0.9541\n",
            "Epoch 11/30\n",
            "14/14 [==============================] - 0s 35ms/step - loss: 0.0034 - accuracy: 0.9989 - val_loss: 0.2352 - val_accuracy: 0.9498\n",
            "Epoch 12/30\n",
            "14/14 [==============================] - 0s 34ms/step - loss: 0.0025 - accuracy: 0.9993 - val_loss: 0.2296 - val_accuracy: 0.9541\n",
            "Epoch 13/30\n",
            "14/14 [==============================] - 1s 39ms/step - loss: 0.0016 - accuracy: 0.9996 - val_loss: 0.2411 - val_accuracy: 0.9553\n",
            "Epoch 14/30\n",
            "14/14 [==============================] - 1s 36ms/step - loss: 0.0011 - accuracy: 0.9998 - val_loss: 0.2652 - val_accuracy: 0.9522\n",
            "Epoch 15/30\n",
            "14/14 [==============================] - 1s 37ms/step - loss: 0.0018 - accuracy: 0.9997 - val_loss: 0.2661 - val_accuracy: 0.9540\n",
            "Epoch 16/30\n",
            "14/14 [==============================] - 1s 35ms/step - loss: 7.7291e-04 - accuracy: 0.9997 - val_loss: 0.2760 - val_accuracy: 0.9547\n",
            "Epoch 17/30\n",
            "14/14 [==============================] - 0s 30ms/step - loss: 8.0087e-04 - accuracy: 0.9998 - val_loss: 0.2841 - val_accuracy: 0.9546\n",
            "Epoch 18/30\n",
            "14/14 [==============================] - 0s 30ms/step - loss: 0.0011 - accuracy: 0.9998 - val_loss: 0.3050 - val_accuracy: 0.9525\n",
            "Epoch 19/30\n",
            "14/14 [==============================] - 0s 30ms/step - loss: 6.5186e-04 - accuracy: 0.9998 - val_loss: 0.3256 - val_accuracy: 0.9517\n",
            "Epoch 20/30\n",
            "14/14 [==============================] - 0s 31ms/step - loss: 0.0011 - accuracy: 0.9998 - val_loss: 0.3325 - val_accuracy: 0.9517\n",
            "Epoch 21/30\n",
            "14/14 [==============================] - 0s 30ms/step - loss: 8.9024e-04 - accuracy: 0.9997 - val_loss: 0.3169 - val_accuracy: 0.9532\n",
            "Epoch 22/30\n",
            "14/14 [==============================] - 0s 31ms/step - loss: 7.6629e-04 - accuracy: 0.9998 - val_loss: 0.3188 - val_accuracy: 0.9523\n",
            "Epoch 23/30\n",
            "14/14 [==============================] - 0s 30ms/step - loss: 8.8100e-04 - accuracy: 0.9998 - val_loss: 0.3204 - val_accuracy: 0.9531\n",
            "Epoch 24/30\n",
            "14/14 [==============================] - 0s 30ms/step - loss: 0.0012 - accuracy: 0.9997 - val_loss: 0.3487 - val_accuracy: 0.9505\n",
            "Epoch 25/30\n",
            "14/14 [==============================] - 0s 30ms/step - loss: 0.0012 - accuracy: 0.9998 - val_loss: 0.3234 - val_accuracy: 0.9528\n",
            "Epoch 26/30\n",
            "14/14 [==============================] - 0s 30ms/step - loss: 5.5198e-04 - accuracy: 0.9999 - val_loss: 0.3277 - val_accuracy: 0.9525\n",
            "Epoch 27/30\n",
            "14/14 [==============================] - 0s 30ms/step - loss: 6.1281e-04 - accuracy: 0.9999 - val_loss: 0.3420 - val_accuracy: 0.9520\n",
            "Epoch 28/30\n",
            "14/14 [==============================] - 0s 31ms/step - loss: 6.2469e-04 - accuracy: 0.9998 - val_loss: 0.3391 - val_accuracy: 0.9531\n",
            "Epoch 29/30\n",
            "14/14 [==============================] - 0s 31ms/step - loss: 8.7203e-04 - accuracy: 0.9998 - val_loss: 0.3481 - val_accuracy: 0.9531\n",
            "Epoch 30/30\n",
            "14/14 [==============================] - 0s 31ms/step - loss: 7.9102e-04 - accuracy: 0.9998 - val_loss: 0.3402 - val_accuracy: 0.9540\n"
          ]
        }
      ]
    },
    {
      "cell_type": "code",
      "source": [
        "spamModel.predict(padTrain)"
      ],
      "metadata": {
        "colab": {
          "base_uri": "https://localhost:8080/"
        },
        "id": "XjhaXr3_BuwX",
        "outputId": "a5d634f2-f808-4fac-d7af-7a960fef7bab"
      },
      "execution_count": null,
      "outputs": [
        {
          "output_type": "execute_result",
          "data": {
            "text/plain": [
              "array([[9.9999952e-01],\n",
              "       [6.2852674e-09],\n",
              "       [3.2266179e-11],\n",
              "       ...,\n",
              "       [8.7557484e-05],\n",
              "       [5.3289377e-17],\n",
              "       [1.0000000e+00]], dtype=float32)"
            ]
          },
          "metadata": {},
          "execution_count": 51
        }
      ]
    },
    {
      "cell_type": "code",
      "source": [
        "mainAccuracy=finalOutput.history['accuracy']\n",
        "mainValAccuracy=finalOutput.history['val_accuracy']\n",
        "mainLoss=finalOutput.history['loss']\n",
        "mainValLoss=finalOutput.history['val_loss']"
      ],
      "metadata": {
        "id": "LX37N1WuJEOR"
      },
      "execution_count": null,
      "outputs": []
    },
    {
      "cell_type": "code",
      "source": [
        "epochLength=range(1,len(mainAccuracy)+1)"
      ],
      "metadata": {
        "id": "jsP4mu2AJEOx"
      },
      "execution_count": null,
      "outputs": []
    },
    {
      "cell_type": "code",
      "source": [
        "import matplotlib.pyplot as plt\n",
        "plt.plot(epochLength,mainAccuracy,'bo',label='Training acc')\n",
        "plt.plot(epochLength,mainValAccuracy,'b',label='Validation acc')\n",
        "plt.title('Training and validation accuracy')\n",
        "plt.legend()\n",
        "plt.figure()"
      ],
      "metadata": {
        "colab": {
          "base_uri": "https://localhost:8080/",
          "height": 316
        },
        "outputId": "a25c3e47-11dc-4707-adf0-54c4e35e69a0",
        "id": "04pfPbBQGQ69"
      },
      "execution_count": null,
      "outputs": [
        {
          "output_type": "execute_result",
          "data": {
            "text/plain": [
              "<Figure size 432x288 with 0 Axes>"
            ]
          },
          "metadata": {},
          "execution_count": 54
        },
        {
          "output_type": "display_data",
          "data": {
            "text/plain": [
              "<Figure size 432x288 with 1 Axes>"
            ],
            "image/png": "[encoded data removed]"
          },
          "metadata": {
            "needs_background": "light"
          }
        },
        {
          "output_type": "display_data",
          "data": {
            "text/plain": [
              "<Figure size 432x288 with 0 Axes>"
            ]
          },
          "metadata": {}
        }
      ]
    },
    {
      "cell_type": "code",
      "source": [
        "import matplotlib.pyplot as plt\n",
        "plt.plot(epochLength,mainLoss,'bo',label='Training Loss')\n",
        "plt.plot(epochLength,mainValLoss,'b',label='Validation Loss')\n",
        "plt.title('Training and validation Loss')\n",
        "plt.legend()\n",
        "plt.figure()"
      ],
      "metadata": {
        "colab": {
          "base_uri": "https://localhost:8080/",
          "height": 316
        },
        "outputId": "c838ac6e-3136-4b0f-80ce-08255b7dde7d",
        "id": "i2mGPjjSGQ6_"
      },
      "execution_count": null,
      "outputs": [
        {
          "output_type": "execute_result",
          "data": {
            "text/plain": [
              "<Figure size 432x288 with 0 Axes>"
            ]
          },
          "metadata": {},
          "execution_count": 55
        },
        {
          "output_type": "display_data",
          "data": {
            "text/plain": [
              "<Figure size 432x288 with 1 Axes>"
            ],
            "image/png": "[encoded data removed]"
          },
          "metadata": {
            "needs_background": "light"
          }
        },
        {
          "output_type": "display_data",
          "data": {
            "text/plain": [
              "<Figure size 432x288 with 0 Axes>"
            ]
          },
          "metadata": {}
        }
      ]
    },
    {
      "cell_type": "markdown",
      "source": [
        "#####The accuracy has improved by inccreaseing the amount of each dense layer but there  is still overfitting."
      ],
      "metadata": {
        "id": "huTP-txMw7wX"
      }
    },
    {
      "cell_type": "markdown",
      "source": [
        "##Weight Regularization"
      ],
      "metadata": {
        "id": "8ZX0U4NOxhmc"
      }
    },
    {
      "cell_type": "code",
      "source": [
        "from tensorflow.keras import regularizers"
      ],
      "metadata": {
        "id": "-DY5umoFz4tZ"
      },
      "execution_count": null,
      "outputs": []
    },
    {
      "cell_type": "code",
      "source": [
        "spamModel=models.Sequential()\n",
        "wordLength=len(mainToken.word_index) +1\n",
        "spamModel.add(layers.Embedding(wordLength,2,input_length=mainSize))\n",
        "spamModel.add(layers.Flatten())\n",
        "spamModel.add(layers.Dense(50,activation='relu',kernel_regularizer=regularizers.l1(l1=0.002)))\n",
        "spamModel.add(layers.Dense(50,activation='relu',kernel_regularizer=regularizers.l1(l1=0.002,)))\n",
        "spamModel.add(layers.Dropout(0.5))\n",
        "spamModel.add(layers.Dense(50,activation='relu',kernel_regularizer=regularizers.l1(l1=0.002,)))\n",
        "spamModel.add(layers.Dense(1,activation='sigmoid',kernel_regularizer=regularizers.l1(l1=0.002,)))\n"
      ],
      "metadata": {
        "id": "WVI7NZr9xgcy"
      },
      "execution_count": null,
      "outputs": []
    },
    {
      "cell_type": "code",
      "source": [
        "spamModel.compile(optimizer='rmsprop',\n",
        "                  loss='binary_crossentropy',\n",
        "                  metrics=['accuracy'])"
      ],
      "metadata": {
        "id": "l6zEiHNJxgc8"
      },
      "execution_count": null,
      "outputs": []
    },
    {
      "cell_type": "code",
      "source": [
        "finalOutput=spamModel.fit(padTrain,spamYTrain,\n",
        "                          epochs=30,\n",
        "                          batch_size=2000,\n",
        "                          validation_data=(padTest,spamYTest))"
      ],
      "metadata": {
        "colab": {
          "base_uri": "https://localhost:8080/"
        },
        "outputId": "b7102157-6687-4bf8-8ed9-ff29cb58aa08",
        "id": "WcfV9e6gxgc9"
      },
      "execution_count": null,
      "outputs": [
        {
          "output_type": "stream",
          "name": "stdout",
          "text": [
            "Epoch 1/30\n",
            "14/14 [==============================] - 1s 30ms/step - loss: 2.1040 - accuracy: 0.5433 - val_loss: 1.9834 - val_accuracy: 0.5559\n",
            "Epoch 2/30\n",
            "14/14 [==============================] - 0s 15ms/step - loss: 1.9091 - accuracy: 0.6168 - val_loss: 1.8211 - val_accuracy: 0.6107\n",
            "Epoch 3/30\n",
            "14/14 [==============================] - 0s 14ms/step - loss: 1.7562 - accuracy: 0.6528 - val_loss: 1.6778 - val_accuracy: 0.8153\n",
            "Epoch 4/30\n",
            "14/14 [==============================] - 0s 15ms/step - loss: 1.6182 - accuracy: 0.7359 - val_loss: 1.5471 - val_accuracy: 0.8280\n",
            "Epoch 5/30\n",
            "14/14 [==============================] - 0s 14ms/step - loss: 1.4913 - accuracy: 0.7652 - val_loss: 1.4264 - val_accuracy: 0.7818\n",
            "Epoch 6/30\n",
            "14/14 [==============================] - 0s 16ms/step - loss: 1.3728 - accuracy: 0.7786 - val_loss: 1.3108 - val_accuracy: 0.8673\n",
            "Epoch 7/30\n",
            "14/14 [==============================] - 0s 14ms/step - loss: 1.2567 - accuracy: 0.8204 - val_loss: 1.1936 - val_accuracy: 0.8773\n",
            "Epoch 8/30\n",
            "14/14 [==============================] - 0s 14ms/step - loss: 1.1357 - accuracy: 0.8542 - val_loss: 1.0654 - val_accuracy: 0.8995\n",
            "Epoch 9/30\n",
            "14/14 [==============================] - 0s 14ms/step - loss: 1.0065 - accuracy: 0.8773 - val_loss: 0.9313 - val_accuracy: 0.9075\n",
            "Epoch 10/30\n",
            "14/14 [==============================] - 0s 14ms/step - loss: 0.8737 - accuracy: 0.8980 - val_loss: 0.7994 - val_accuracy: 0.9153\n",
            "Epoch 11/30\n",
            "14/14 [==============================] - 0s 17ms/step - loss: 0.7468 - accuracy: 0.9155 - val_loss: 0.6840 - val_accuracy: 0.9220\n",
            "Epoch 12/30\n",
            "14/14 [==============================] - 0s 14ms/step - loss: 0.6394 - accuracy: 0.9272 - val_loss: 0.5907 - val_accuracy: 0.9267\n",
            "Epoch 13/30\n",
            "14/14 [==============================] - 0s 14ms/step - loss: 0.5532 - accuracy: 0.9370 - val_loss: 0.5187 - val_accuracy: 0.9337\n",
            "Epoch 14/30\n",
            "14/14 [==============================] - 0s 13ms/step - loss: 0.4844 - accuracy: 0.9456 - val_loss: 0.4637 - val_accuracy: 0.9412\n",
            "Epoch 15/30\n",
            "14/14 [==============================] - 0s 15ms/step - loss: 0.4327 - accuracy: 0.9513 - val_loss: 0.4234 - val_accuracy: 0.9439\n",
            "Epoch 16/30\n",
            "14/14 [==============================] - 0s 16ms/step - loss: 0.3942 - accuracy: 0.9575 - val_loss: 0.4009 - val_accuracy: 0.9414\n",
            "Epoch 17/30\n",
            "14/14 [==============================] - 0s 14ms/step - loss: 0.3655 - accuracy: 0.9625 - val_loss: 0.3774 - val_accuracy: 0.9462\n",
            "Epoch 18/30\n",
            "14/14 [==============================] - 0s 15ms/step - loss: 0.3481 - accuracy: 0.9645 - val_loss: 0.3647 - val_accuracy: 0.9483\n",
            "Epoch 19/30\n",
            "14/14 [==============================] - 0s 15ms/step - loss: 0.3321 - accuracy: 0.9679 - val_loss: 0.3539 - val_accuracy: 0.9514\n",
            "Epoch 20/30\n",
            "14/14 [==============================] - 0s 15ms/step - loss: 0.3222 - accuracy: 0.9691 - val_loss: 0.3449 - val_accuracy: 0.9528\n",
            "Epoch 21/30\n",
            "14/14 [==============================] - 0s 14ms/step - loss: 0.3110 - accuracy: 0.9723 - val_loss: 0.3407 - val_accuracy: 0.9522\n",
            "Epoch 22/30\n",
            "14/14 [==============================] - 0s 14ms/step - loss: 0.3022 - accuracy: 0.9743 - val_loss: 0.3329 - val_accuracy: 0.9540\n",
            "Epoch 23/30\n",
            "14/14 [==============================] - 0s 14ms/step - loss: 0.2953 - accuracy: 0.9760 - val_loss: 0.3305 - val_accuracy: 0.9522\n",
            "Epoch 24/30\n",
            "14/14 [==============================] - 0s 14ms/step - loss: 0.2865 - accuracy: 0.9773 - val_loss: 0.3214 - val_accuracy: 0.9561\n",
            "Epoch 25/30\n",
            "14/14 [==============================] - 0s 16ms/step - loss: 0.2825 - accuracy: 0.9780 - val_loss: 0.3180 - val_accuracy: 0.9559\n",
            "Epoch 26/30\n",
            "14/14 [==============================] - 0s 15ms/step - loss: 0.2746 - accuracy: 0.9798 - val_loss: 0.3134 - val_accuracy: 0.9570\n",
            "Epoch 27/30\n",
            "14/14 [==============================] - 0s 15ms/step - loss: 0.2709 - accuracy: 0.9807 - val_loss: 0.3058 - val_accuracy: 0.9592\n",
            "Epoch 28/30\n",
            "14/14 [==============================] - 0s 15ms/step - loss: 0.2616 - accuracy: 0.9825 - val_loss: 0.3017 - val_accuracy: 0.9595\n",
            "Epoch 29/30\n",
            "14/14 [==============================] - 0s 15ms/step - loss: 0.2565 - accuracy: 0.9818 - val_loss: 0.3018 - val_accuracy: 0.9576\n",
            "Epoch 30/30\n",
            "14/14 [==============================] - 0s 15ms/step - loss: 0.2523 - accuracy: 0.9828 - val_loss: 0.2974 - val_accuracy: 0.9586\n"
          ]
        }
      ]
    },
    {
      "cell_type": "code",
      "source": [
        "spamModel.predict(padTrain)"
      ],
      "metadata": {
        "colab": {
          "base_uri": "https://localhost:8080/"
        },
        "id": "Y51Uj4pYBq-5",
        "outputId": "d699f96e-17d2-496e-ab72-27cd1a79054d"
      },
      "execution_count": null,
      "outputs": [
        {
          "output_type": "execute_result",
          "data": {
            "text/plain": [
              "array([[9.7952139e-01],\n",
              "       [7.1228147e-03],\n",
              "       [1.1125207e-03],\n",
              "       ...,\n",
              "       [6.3925153e-01],\n",
              "       [9.6989097e-06],\n",
              "       [9.9663866e-01]], dtype=float32)"
            ]
          },
          "metadata": {},
          "execution_count": 60
        }
      ]
    },
    {
      "cell_type": "code",
      "source": [
        "mainAccuracy=finalOutput.history['accuracy']\n",
        "mainValAccuracy=finalOutput.history['val_accuracy']\n",
        "mainLoss=finalOutput.history['loss']\n",
        "mainValLoss=finalOutput.history['val_loss']"
      ],
      "metadata": {
        "id": "ajfr80M6JF2k"
      },
      "execution_count": null,
      "outputs": []
    },
    {
      "cell_type": "code",
      "source": [
        "epochLength=range(1,len(mainAccuracy)+1)"
      ],
      "metadata": {
        "id": "uW99EPncJF2l"
      },
      "execution_count": null,
      "outputs": []
    },
    {
      "cell_type": "code",
      "source": [
        "import matplotlib.pyplot as plt\n",
        "plt.plot(epochLength,mainAccuracy,'bo',label='Training accuracy')\n",
        "plt.plot(epochLength,mainValAccuracy,'b',label='Validation accuracy')\n",
        "plt.title('Training and validation accuracy')\n",
        "plt.legend()\n",
        "plt.figure()"
      ],
      "metadata": {
        "colab": {
          "base_uri": "https://localhost:8080/",
          "height": 316
        },
        "outputId": "b1f30266-17fe-4d57-990b-995c6d6a0050",
        "id": "_71tlqLSGX-I"
      },
      "execution_count": null,
      "outputs": [
        {
          "output_type": "execute_result",
          "data": {
            "text/plain": [
              "<Figure size 432x288 with 0 Axes>"
            ]
          },
          "metadata": {},
          "execution_count": 63
        },
        {
          "output_type": "display_data",
          "data": {
            "text/plain": [
              "<Figure size 432x288 with 1 Axes>"
            ],
            "image/png": "[encoded data removed]"
          },
          "metadata": {
            "needs_background": "light"
          }
        },
        {
          "output_type": "display_data",
          "data": {
            "text/plain": [
              "<Figure size 432x288 with 0 Axes>"
            ]
          },
          "metadata": {}
        }
      ]
    },
    {
      "cell_type": "code",
      "source": [
        "import matplotlib.pyplot as plt\n",
        "plt.plot(epochLength,mainLoss,'bo',label='Training Loss')\n",
        "plt.plot(epochLength,mainValLoss,'b',label='Validation Loss')\n",
        "plt.title('Training and validation Loss')\n",
        "plt.legend()\n",
        "plt.figure()"
      ],
      "metadata": {
        "colab": {
          "base_uri": "https://localhost:8080/",
          "height": 316
        },
        "outputId": "c21a1d0d-808d-4e94-fe80-4ddf9ce6743d",
        "id": "GOB_iWkuGX-K"
      },
      "execution_count": null,
      "outputs": [
        {
          "output_type": "execute_result",
          "data": {
            "text/plain": [
              "<Figure size 432x288 with 0 Axes>"
            ]
          },
          "metadata": {},
          "execution_count": 64
        },
        {
          "output_type": "display_data",
          "data": {
            "text/plain": [
              "<Figure size 432x288 with 1 Axes>"
            ],
            "image/png": "[encoded data removed]"
          },
          "metadata": {
            "needs_background": "light"
          }
        },
        {
          "output_type": "display_data",
          "data": {
            "text/plain": [
              "<Figure size 432x288 with 0 Axes>"
            ]
          },
          "metadata": {}
        }
      ]
    },
    {
      "cell_type": "markdown",
      "source": [
        "####By adding weight regularization, we narrow the gap  for overfitting."
      ],
      "metadata": {
        "id": "T23ZQ8o4-MyC"
      }
    },
    {
      "cell_type": "markdown",
      "source": [
        "##Adding more epochs"
      ],
      "metadata": {
        "id": "sdCTZSfB1Zsd"
      }
    },
    {
      "cell_type": "code",
      "source": [
        "from tensorflow.keras import regularizers"
      ],
      "metadata": {
        "id": "qvp0pCrz1amj"
      },
      "execution_count": null,
      "outputs": []
    },
    {
      "cell_type": "code",
      "source": [
        "spamModel=models.Sequential()\n",
        "wordLength=len(mainToken.word_index) +1\n",
        "spamModel.add(layers.Embedding(wordLength,2,input_length=mainSize))\n",
        "spamModel.add(layers.Flatten())\n",
        "spamModel.add(layers.Dense(50,activation='relu',kernel_regularizer=regularizers.l1(l1=0.002)))\n",
        "spamModel.add(layers.Dense(50,activation='relu',kernel_regularizer=regularizers.l1(l1=0.002,)))\n",
        "spamModel.add(layers.Dropout(0.5))\n",
        "spamModel.add(layers.Dense(50,activation='relu',kernel_regularizer=regularizers.l1(l1=0.002,)))\n",
        "spamModel.add(layers.Dense(1,activation='sigmoid',kernel_regularizer=regularizers.l1(l1=0.002,)))"
      ],
      "metadata": {
        "id": "2BlwEJKA1amk"
      },
      "execution_count": null,
      "outputs": []
    },
    {
      "cell_type": "code",
      "source": [
        "spamModel.compile(optimizer='rmsprop',\n",
        "                  loss='binary_crossentropy',\n",
        "                  metrics=['accuracy'])"
      ],
      "metadata": {
        "id": "3QSeQVO71aml"
      },
      "execution_count": null,
      "outputs": []
    },
    {
      "cell_type": "code",
      "source": [
        "finalOutput=spamModel.fit(padTrain,spamYTrain,\n",
        "                          epochs=60,\n",
        "                          batch_size=2000,\n",
        "                          validation_data=(padTest,spamYTest))"
      ],
      "metadata": {
        "id": "7VfExMEn1aml",
        "colab": {
          "base_uri": "https://localhost:8080/"
        },
        "outputId": "b06d95b8-d0cf-4ee6-df1f-112fbe06eb0d"
      },
      "execution_count": null,
      "outputs": [
        {
          "output_type": "stream",
          "name": "stdout",
          "text": [
            "Epoch 1/60\n",
            "14/14 [==============================] - 1s 30ms/step - loss: 2.0866 - accuracy: 0.5169 - val_loss: 1.9665 - val_accuracy: 0.5962\n",
            "Epoch 2/60\n",
            "14/14 [==============================] - 0s 14ms/step - loss: 1.8926 - accuracy: 0.6128 - val_loss: 1.8046 - val_accuracy: 0.5764\n",
            "Epoch 3/60\n",
            "14/14 [==============================] - 0s 15ms/step - loss: 1.7400 - accuracy: 0.6605 - val_loss: 1.6622 - val_accuracy: 0.7304\n",
            "Epoch 4/60\n",
            "14/14 [==============================] - 0s 14ms/step - loss: 1.6022 - accuracy: 0.6979 - val_loss: 1.5301 - val_accuracy: 0.8465\n",
            "Epoch 5/60\n",
            "14/14 [==============================] - 0s 14ms/step - loss: 1.4733 - accuracy: 0.7277 - val_loss: 1.4054 - val_accuracy: 0.8776\n",
            "Epoch 6/60\n",
            "14/14 [==============================] - 0s 15ms/step - loss: 1.3505 - accuracy: 0.7619 - val_loss: 1.2860 - val_accuracy: 0.8079\n",
            "Epoch 7/60\n",
            "14/14 [==============================] - 0s 15ms/step - loss: 1.2282 - accuracy: 0.7939 - val_loss: 1.1588 - val_accuracy: 0.8965\n",
            "Epoch 8/60\n",
            "14/14 [==============================] - 0s 16ms/step - loss: 1.0996 - accuracy: 0.8586 - val_loss: 1.0225 - val_accuracy: 0.9115\n",
            "Epoch 9/60\n",
            "14/14 [==============================] - 0s 15ms/step - loss: 0.9627 - accuracy: 0.8939 - val_loss: 0.8844 - val_accuracy: 0.9184\n",
            "Epoch 10/60\n",
            "14/14 [==============================] - 0s 13ms/step - loss: 0.8258 - accuracy: 0.9147 - val_loss: 0.7573 - val_accuracy: 0.9237\n",
            "Epoch 11/60\n",
            "14/14 [==============================] - 0s 16ms/step - loss: 0.7030 - accuracy: 0.9295 - val_loss: 0.6525 - val_accuracy: 0.9261\n",
            "Epoch 12/60\n",
            "14/14 [==============================] - 0s 16ms/step - loss: 0.6061 - accuracy: 0.9399 - val_loss: 0.5668 - val_accuracy: 0.9340\n",
            "Epoch 13/60\n",
            "14/14 [==============================] - 0s 18ms/step - loss: 0.5265 - accuracy: 0.9480 - val_loss: 0.5039 - val_accuracy: 0.9370\n",
            "Epoch 14/60\n",
            "14/14 [==============================] - 0s 15ms/step - loss: 0.4650 - accuracy: 0.9542 - val_loss: 0.4543 - val_accuracy: 0.9432\n",
            "Epoch 15/60\n",
            "14/14 [==============================] - 0s 15ms/step - loss: 0.4197 - accuracy: 0.9588 - val_loss: 0.4195 - val_accuracy: 0.9447\n",
            "Epoch 16/60\n",
            "14/14 [==============================] - 0s 14ms/step - loss: 0.3839 - accuracy: 0.9633 - val_loss: 0.3934 - val_accuracy: 0.9463\n",
            "Epoch 17/60\n",
            "14/14 [==============================] - 0s 15ms/step - loss: 0.3590 - accuracy: 0.9664 - val_loss: 0.3764 - val_accuracy: 0.9487\n",
            "Epoch 18/60\n",
            "14/14 [==============================] - 0s 16ms/step - loss: 0.3415 - accuracy: 0.9708 - val_loss: 0.3695 - val_accuracy: 0.9495\n",
            "Epoch 19/60\n",
            "14/14 [==============================] - 0s 14ms/step - loss: 0.3276 - accuracy: 0.9729 - val_loss: 0.3549 - val_accuracy: 0.9528\n",
            "Epoch 20/60\n",
            "14/14 [==============================] - 0s 15ms/step - loss: 0.3172 - accuracy: 0.9739 - val_loss: 0.3476 - val_accuracy: 0.9526\n",
            "Epoch 21/60\n",
            "14/14 [==============================] - 0s 15ms/step - loss: 0.3069 - accuracy: 0.9768 - val_loss: 0.3393 - val_accuracy: 0.9540\n",
            "Epoch 22/60\n",
            "14/14 [==============================] - 0s 16ms/step - loss: 0.2961 - accuracy: 0.9780 - val_loss: 0.3337 - val_accuracy: 0.9537\n",
            "Epoch 23/60\n",
            "14/14 [==============================] - 0s 14ms/step - loss: 0.2877 - accuracy: 0.9803 - val_loss: 0.3253 - val_accuracy: 0.9564\n",
            "Epoch 24/60\n",
            "14/14 [==============================] - 0s 18ms/step - loss: 0.2803 - accuracy: 0.9809 - val_loss: 0.3199 - val_accuracy: 0.9571\n",
            "Epoch 25/60\n",
            "14/14 [==============================] - 0s 19ms/step - loss: 0.2715 - accuracy: 0.9828 - val_loss: 0.3151 - val_accuracy: 0.9567\n",
            "Epoch 26/60\n",
            "14/14 [==============================] - 0s 21ms/step - loss: 0.2641 - accuracy: 0.9835 - val_loss: 0.3120 - val_accuracy: 0.9561\n",
            "Epoch 27/60\n",
            "14/14 [==============================] - 0s 18ms/step - loss: 0.2562 - accuracy: 0.9845 - val_loss: 0.3021 - val_accuracy: 0.9580\n",
            "Epoch 28/60\n",
            "14/14 [==============================] - 0s 17ms/step - loss: 0.2506 - accuracy: 0.9847 - val_loss: 0.3028 - val_accuracy: 0.9558\n",
            "Epoch 29/60\n",
            "14/14 [==============================] - 0s 16ms/step - loss: 0.2435 - accuracy: 0.9859 - val_loss: 0.2919 - val_accuracy: 0.9591\n",
            "Epoch 30/60\n",
            "14/14 [==============================] - 0s 19ms/step - loss: 0.2370 - accuracy: 0.9859 - val_loss: 0.2911 - val_accuracy: 0.9570\n",
            "Epoch 31/60\n",
            "14/14 [==============================] - 0s 17ms/step - loss: 0.2297 - accuracy: 0.9880 - val_loss: 0.2865 - val_accuracy: 0.9577\n",
            "Epoch 32/60\n",
            "14/14 [==============================] - 0s 14ms/step - loss: 0.2250 - accuracy: 0.9873 - val_loss: 0.2826 - val_accuracy: 0.9576\n",
            "Epoch 33/60\n",
            "14/14 [==============================] - 0s 14ms/step - loss: 0.2206 - accuracy: 0.9872 - val_loss: 0.2791 - val_accuracy: 0.9574\n",
            "Epoch 34/60\n",
            "14/14 [==============================] - 0s 14ms/step - loss: 0.2150 - accuracy: 0.9886 - val_loss: 0.2783 - val_accuracy: 0.9567\n",
            "Epoch 35/60\n",
            "14/14 [==============================] - 0s 16ms/step - loss: 0.2108 - accuracy: 0.9886 - val_loss: 0.2709 - val_accuracy: 0.9571\n",
            "Epoch 36/60\n",
            "14/14 [==============================] - 0s 14ms/step - loss: 0.2061 - accuracy: 0.9896 - val_loss: 0.2669 - val_accuracy: 0.9576\n",
            "Epoch 37/60\n",
            "14/14 [==============================] - 0s 14ms/step - loss: 0.2020 - accuracy: 0.9893 - val_loss: 0.2638 - val_accuracy: 0.9589\n",
            "Epoch 38/60\n",
            "14/14 [==============================] - 0s 13ms/step - loss: 0.1973 - accuracy: 0.9899 - val_loss: 0.2644 - val_accuracy: 0.9574\n",
            "Epoch 39/60\n",
            "14/14 [==============================] - 0s 13ms/step - loss: 0.1924 - accuracy: 0.9913 - val_loss: 0.2631 - val_accuracy: 0.9571\n",
            "Epoch 40/60\n",
            "14/14 [==============================] - 0s 16ms/step - loss: 0.1910 - accuracy: 0.9899 - val_loss: 0.2607 - val_accuracy: 0.9577\n",
            "Epoch 41/60\n",
            "14/14 [==============================] - 0s 14ms/step - loss: 0.1861 - accuracy: 0.9918 - val_loss: 0.2566 - val_accuracy: 0.9583\n",
            "Epoch 42/60\n",
            "14/14 [==============================] - 0s 16ms/step - loss: 0.1826 - accuracy: 0.9916 - val_loss: 0.2542 - val_accuracy: 0.9583\n",
            "Epoch 43/60\n",
            "14/14 [==============================] - 0s 14ms/step - loss: 0.1800 - accuracy: 0.9914 - val_loss: 0.2513 - val_accuracy: 0.9592\n",
            "Epoch 44/60\n",
            "14/14 [==============================] - 0s 14ms/step - loss: 0.1760 - accuracy: 0.9921 - val_loss: 0.2498 - val_accuracy: 0.9586\n",
            "Epoch 45/60\n",
            "14/14 [==============================] - 0s 15ms/step - loss: 0.1738 - accuracy: 0.9915 - val_loss: 0.2464 - val_accuracy: 0.9592\n",
            "Epoch 46/60\n",
            "14/14 [==============================] - 0s 14ms/step - loss: 0.1697 - accuracy: 0.9930 - val_loss: 0.2439 - val_accuracy: 0.9594\n",
            "Epoch 47/60\n",
            "14/14 [==============================] - 0s 13ms/step - loss: 0.1670 - accuracy: 0.9924 - val_loss: 0.2436 - val_accuracy: 0.9589\n",
            "Epoch 48/60\n",
            "14/14 [==============================] - 0s 14ms/step - loss: 0.1638 - accuracy: 0.9933 - val_loss: 0.2433 - val_accuracy: 0.9579\n",
            "Epoch 49/60\n",
            "14/14 [==============================] - 0s 14ms/step - loss: 0.1612 - accuracy: 0.9934 - val_loss: 0.2388 - val_accuracy: 0.9594\n",
            "Epoch 50/60\n",
            "14/14 [==============================] - 0s 15ms/step - loss: 0.1588 - accuracy: 0.9935 - val_loss: 0.2403 - val_accuracy: 0.9585\n",
            "Epoch 51/60\n",
            "14/14 [==============================] - 0s 15ms/step - loss: 0.1555 - accuracy: 0.9930 - val_loss: 0.2406 - val_accuracy: 0.9582\n",
            "Epoch 52/60\n",
            "14/14 [==============================] - 0s 13ms/step - loss: 0.1542 - accuracy: 0.9933 - val_loss: 0.2359 - val_accuracy: 0.9583\n",
            "Epoch 53/60\n",
            "14/14 [==============================] - 0s 13ms/step - loss: 0.1510 - accuracy: 0.9934 - val_loss: 0.2333 - val_accuracy: 0.9589\n",
            "Epoch 54/60\n",
            "14/14 [==============================] - 0s 14ms/step - loss: 0.1491 - accuracy: 0.9943 - val_loss: 0.2328 - val_accuracy: 0.9586\n",
            "Epoch 55/60\n",
            "14/14 [==============================] - 0s 15ms/step - loss: 0.1475 - accuracy: 0.9943 - val_loss: 0.2367 - val_accuracy: 0.9574\n",
            "Epoch 56/60\n",
            "14/14 [==============================] - 0s 14ms/step - loss: 0.1450 - accuracy: 0.9941 - val_loss: 0.2314 - val_accuracy: 0.9586\n",
            "Epoch 57/60\n",
            "14/14 [==============================] - 0s 15ms/step - loss: 0.1435 - accuracy: 0.9942 - val_loss: 0.2308 - val_accuracy: 0.9582\n",
            "Epoch 58/60\n",
            "14/14 [==============================] - 0s 14ms/step - loss: 0.1411 - accuracy: 0.9950 - val_loss: 0.2287 - val_accuracy: 0.9592\n",
            "Epoch 59/60\n",
            "14/14 [==============================] - 0s 15ms/step - loss: 0.1388 - accuracy: 0.9947 - val_loss: 0.2297 - val_accuracy: 0.9580\n",
            "Epoch 60/60\n",
            "14/14 [==============================] - 0s 14ms/step - loss: 0.1377 - accuracy: 0.9942 - val_loss: 0.2306 - val_accuracy: 0.9577\n"
          ]
        }
      ]
    },
    {
      "cell_type": "code",
      "source": [
        "spamModel.predict(padTrain)"
      ],
      "metadata": {
        "colab": {
          "base_uri": "https://localhost:8080/"
        },
        "id": "epNArtMI9vu9",
        "outputId": "29ea4181-1029-48b5-fc10-049ab298507f"
      },
      "execution_count": null,
      "outputs": [
        {
          "output_type": "execute_result",
          "data": {
            "text/plain": [
              "array([[9.9544710e-01],\n",
              "       [1.2655258e-03],\n",
              "       [1.5117853e-05],\n",
              "       ...,\n",
              "       [2.2603044e-01],\n",
              "       [8.5480409e-08],\n",
              "       [9.9886805e-01]], dtype=float32)"
            ]
          },
          "metadata": {},
          "execution_count": 69
        }
      ]
    },
    {
      "cell_type": "code",
      "source": [
        "mainAccuracy=finalOutput.history['accuracy']\n",
        "mainValAccuracy=finalOutput.history['val_accuracy']\n",
        "mainLoss=finalOutput.history['loss']\n",
        "mainValLoss=finalOutput.history['val_loss']"
      ],
      "metadata": {
        "id": "n-mM4CTgJHkZ"
      },
      "execution_count": null,
      "outputs": []
    },
    {
      "cell_type": "code",
      "source": [
        "epochLength=range(1,len(mainAccuracy)+1)"
      ],
      "metadata": {
        "id": "-5m9D2CTJHka"
      },
      "execution_count": null,
      "outputs": []
    },
    {
      "cell_type": "code",
      "source": [
        "import matplotlib.pyplot as plt\n",
        "plt.plot(epochLength,mainAccuracy,'bo',label='Training accuracy')\n",
        "plt.plot(epochLength,mainValAccuracy,'b',label='Validation accuracy')\n",
        "plt.title('Training and validation accuracy')\n",
        "plt.legend()\n",
        "plt.figure()"
      ],
      "metadata": {
        "colab": {
          "base_uri": "https://localhost:8080/",
          "height": 316
        },
        "outputId": "c4e8a591-3481-4e20-c516-a085a5f702e3",
        "id": "U0OZ8sQoGdVk"
      },
      "execution_count": null,
      "outputs": [
        {
          "output_type": "execute_result",
          "data": {
            "text/plain": [
              "<Figure size 432x288 with 0 Axes>"
            ]
          },
          "metadata": {},
          "execution_count": 72
        },
        {
          "output_type": "display_data",
          "data": {
            "text/plain": [
              "<Figure size 432x288 with 1 Axes>"
            ],
            "image/png": "[encoded data removed]"
          },
          "metadata": {
            "needs_background": "light"
          }
        },
        {
          "output_type": "display_data",
          "data": {
            "text/plain": [
              "<Figure size 432x288 with 0 Axes>"
            ]
          },
          "metadata": {}
        }
      ]
    },
    {
      "cell_type": "code",
      "source": [
        "import matplotlib.pyplot as plt\n",
        "plt.plot(epochLength,mainLoss,'bo',label='Training Loss')\n",
        "plt.plot(epochLength,mainValLoss,'b',label='Validation Loss')\n",
        "plt.title('Training and validation Loss')\n",
        "plt.legend()\n",
        "plt.figure()"
      ],
      "metadata": {
        "colab": {
          "base_uri": "https://localhost:8080/",
          "height": 316
        },
        "outputId": "2dce631d-07ac-46c0-ef17-59e572a222b4",
        "id": "U43Tune9GdVm"
      },
      "execution_count": null,
      "outputs": [
        {
          "output_type": "execute_result",
          "data": {
            "text/plain": [
              "<Figure size 432x288 with 0 Axes>"
            ]
          },
          "metadata": {},
          "execution_count": 73
        },
        {
          "output_type": "display_data",
          "data": {
            "text/plain": [
              "<Figure size 432x288 with 1 Axes>"
            ],
            "image/png": "[encoded data removed]"
          },
          "metadata": {
            "needs_background": "light"
          }
        },
        {
          "output_type": "display_data",
          "data": {
            "text/plain": [
              "<Figure size 432x288 with 0 Axes>"
            ]
          },
          "metadata": {}
        }
      ]
    },
    {
      "cell_type": "markdown",
      "source": [
        "####This approach as greatly reduced overfitting and because the accuracy is very good we can say 60 epochs is need to create an acceptable model."
      ],
      "metadata": {
        "id": "AeGbSDWy9xoV"
      }
    },
    {
      "cell_type": "markdown",
      "source": [
        "#Conclusion"
      ],
      "metadata": {
        "id": "W7OElJUQGl34"
      }
    },
    {
      "cell_type": "markdown",
      "source": [
        "#### Throughouut this project, I have learned many techniques in  machine learning. Weight regularization and dropout are the main protectors of overfitting. Without them, we would get biased results.\n",
        "\n",
        "####In addition ,as overfitting increases, loss increases. This concept helped me to make more efficient  models.\n",
        "\n",
        "####Finally, we get accurate results asa we train more data and increase the number of epochs."
      ],
      "metadata": {
        "id": "sP0ebUSQGoZm"
      }
    },
    {
      "cell_type": "code",
      "source": [],
      "metadata": {
        "id": "_3xFoMF7A2zN"
      },
      "execution_count": null,
      "outputs": []
    }
  ]
}